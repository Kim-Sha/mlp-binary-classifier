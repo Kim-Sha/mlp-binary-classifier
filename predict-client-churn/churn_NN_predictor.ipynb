{
 "cells": [
  {
   "cell_type": "markdown",
   "metadata": {},
   "source": [
    "# NN Prediction of Telco Client Churn"
   ]
  },
  {
   "cell_type": "code",
   "execution_count": 1,
   "metadata": {
    "ExecuteTime": {
     "end_time": "2020-01-28T07:16:10.038667Z",
     "start_time": "2020-01-28T07:16:06.737926Z"
    }
   },
   "outputs": [],
   "source": [
    "import sys\n",
    "sys.path.append(\"..\")\n",
    "import numpy as np\n",
    "import pandas as pd\n",
    "from multilayer_perceptron import MultiLayerNN\n",
    "from sklearn import preprocessing\n",
    "from sklearn.metrics import accuracy_score, confusion_matrix, precision_score, recall_score\n",
    "import matplotlib.pyplot as plt"
   ]
  },
  {
   "cell_type": "markdown",
   "metadata": {},
   "source": [
    "# Data Prep"
   ]
  },
  {
   "cell_type": "code",
   "execution_count": 2,
   "metadata": {
    "ExecuteTime": {
     "end_time": "2020-01-28T07:16:11.404617Z",
     "start_time": "2020-01-28T07:16:10.059104Z"
    }
   },
   "outputs": [],
   "source": [
    "X_train = np.loadtxt(\"data-churn/x_train.csv\")\n",
    "y_train = np.loadtxt(\"data-churn/y_train.csv\")\n",
    "X_test = np.loadtxt(\"data-churn/x_test.csv\")\n",
    "y_test = np.loadtxt(\"data-churn/y_test.csv\")"
   ]
  },
  {
   "cell_type": "markdown",
   "metadata": {},
   "source": [
    "## Normalization"
   ]
  },
  {
   "cell_type": "code",
   "execution_count": 3,
   "metadata": {
    "ExecuteTime": {
     "end_time": "2020-01-28T07:16:11.505362Z",
     "start_time": "2020-01-28T07:16:11.458921Z"
    }
   },
   "outputs": [
    {
     "data": {
      "text/plain": [
       "StandardScaler(copy=True, with_mean=True, with_std=True)"
      ]
     },
     "execution_count": 3,
     "metadata": {},
     "output_type": "execute_result"
    }
   ],
   "source": [
    "scaler = preprocessing.StandardScaler()\n",
    "scaler.fit(X_train)"
   ]
  },
  {
   "cell_type": "code",
   "execution_count": 4,
   "metadata": {
    "ExecuteTime": {
     "end_time": "2020-01-28T07:16:11.542490Z",
     "start_time": "2020-01-28T07:16:11.528876Z"
    }
   },
   "outputs": [],
   "source": [
    "norm_X_train = scaler.transform(X_train)\n",
    "norm_X_test = scaler.transform(X_test)"
   ]
  },
  {
   "cell_type": "markdown",
   "metadata": {},
   "source": [
    "## Reshaping"
   ]
  },
  {
   "cell_type": "code",
   "execution_count": 5,
   "metadata": {
    "ExecuteTime": {
     "end_time": "2020-01-28T07:16:11.560767Z",
     "start_time": "2020-01-28T07:16:11.552812Z"
    }
   },
   "outputs": [],
   "source": [
    "norm_X_train = norm_X_train.T\n",
    "y_train = y_train.reshape(1, y_train.shape[0])\n",
    "norm_X_test = norm_X_test.T\n",
    "y_test = y_test.reshape(1, y_test.shape[0])"
   ]
  },
  {
   "cell_type": "code",
   "execution_count": 6,
   "metadata": {
    "ExecuteTime": {
     "end_time": "2020-01-28T07:16:11.607284Z",
     "start_time": "2020-01-28T07:16:11.587915Z"
    },
    "scrolled": true
   },
   "outputs": [
    {
     "name": "stdout",
     "output_type": "stream",
     "text": [
      "(39, 4930)\n",
      "(1, 4930)\n",
      "(39, 2113)\n",
      "(1, 2113)\n"
     ]
    }
   ],
   "source": [
    "print(norm_X_train.shape)\n",
    "print(y_train.shape)\n",
    "print(norm_X_test.shape)\n",
    "print(y_test.shape)"
   ]
  },
  {
   "cell_type": "markdown",
   "metadata": {},
   "source": [
    "# Binary Neural Network"
   ]
  },
  {
   "cell_type": "code",
   "execution_count": 7,
   "metadata": {
    "ExecuteTime": {
     "end_time": "2020-01-28T07:16:11.642570Z",
     "start_time": "2020-01-28T07:16:11.635981Z"
    }
   },
   "outputs": [],
   "source": [
    "churn_nn = MultiLayerNN(norm_X_train, y_train)"
   ]
  },
  {
   "cell_type": "markdown",
   "metadata": {},
   "source": [
    "## Hyperparameter Search"
   ]
  },
  {
   "cell_type": "code",
   "execution_count": 8,
   "metadata": {
    "ExecuteTime": {
     "end_time": "2020-01-28T07:16:11.662962Z",
     "start_time": "2020-01-28T07:16:11.652220Z"
    }
   },
   "outputs": [],
   "source": [
    "num_searches = 50\n",
    "learning_rate_bounds = [0.00001, 0.0015]\n",
    "lambd_bounds = [0.1, 0.9]\n",
    "learning_rate_search = np.random.uniform(learning_rate_bounds[0], learning_rate_bounds[1], num_searches)\n",
    "lambd_search = np.random.uniform(lambd_bounds[0], lambd_bounds[1], num_searches)"
   ]
  },
  {
   "cell_type": "code",
   "execution_count": 9,
   "metadata": {
    "ExecuteTime": {
     "end_time": "2020-01-28T07:16:13.686602Z",
     "start_time": "2020-01-28T07:16:11.676484Z"
    }
   },
   "outputs": [
    {
     "data": {
      "text/plain": [
       "Text(0, 0.5, 'L2 Regularization Parameter ($\\\\lambda$)')"
      ]
     },
     "execution_count": 9,
     "metadata": {},
     "output_type": "execute_result"
    },
    {
     "data": {
      "image/png": "[encoded data removed]",
      "text/plain": [
       "<Figure size 432x288 with 1 Axes>"
      ]
     },
     "metadata": {
      "needs_background": "light"
     },
     "output_type": "display_data"
    }
   ],
   "source": [
    "plt.scatter(learning_rate_search, lambd_search)\n",
    "plt.xlim(learning_rate_bounds)\n",
    "plt.ylim(lambd_bounds)\n",
    "plt.xlabel(\"Learning Rate\")\n",
    "plt.ylabel(\"L2 Regularization Parameter ($\\lambda$)\")"
   ]
  },
  {
   "cell_type": "code",
   "execution_count": 10,
   "metadata": {
    "ExecuteTime": {
     "end_time": "2020-01-28T07:19:57.166798Z",
     "start_time": "2020-01-28T07:16:13.743177Z"
    }
   },
   "outputs": [
    {
     "data": {
      "image/png": "[encoded data removed]",
      "text/plain": [
       "<Figure size 432x288 with 1 Axes>"
      ]
     },
     "metadata": {
      "needs_background": "light"
     },
     "output_type": "display_data"
    },
    {
     "name": "stdout",
     "output_type": "stream",
     "text": [
      "TRAINING:\n"
     ]
    },
    {
     "ename": "NameError",
     "evalue": "name 'cat_nn' is not defined",
     "output_type": "error",
     "traceback": [
      "\u001b[0;31m---------------------------------------------------------------------------\u001b[0m",
      "\u001b[0;31mNameError\u001b[0m                                 Traceback (most recent call last)",
      "\u001b[0;32m<ipython-input-10-a56b0027b807>\u001b[0m in \u001b[0;36m<module>\u001b[0;34m\u001b[0m\n\u001b[1;32m     18\u001b[0m \u001b[0;34m\u001b[0m\u001b[0m\n\u001b[1;32m     19\u001b[0m     \u001b[0mprint\u001b[0m\u001b[0;34m(\u001b[0m\u001b[0;34m\"TRAINING:\"\u001b[0m\u001b[0;34m)\u001b[0m\u001b[0;34m\u001b[0m\u001b[0;34m\u001b[0m\u001b[0m\n\u001b[0;32m---> 20\u001b[0;31m     \u001b[0mpred_train\u001b[0m\u001b[0;34m,\u001b[0m \u001b[0macc_train\u001b[0m \u001b[0;34m=\u001b[0m \u001b[0mcat_nn\u001b[0m\u001b[0;34m.\u001b[0m\u001b[0mpredict_binary\u001b[0m\u001b[0;34m(\u001b[0m\u001b[0mX\u001b[0m \u001b[0;34m=\u001b[0m \u001b[0mnorm_X_train\u001b[0m\u001b[0;34m,\u001b[0m \u001b[0my\u001b[0m \u001b[0;34m=\u001b[0m \u001b[0my_train\u001b[0m\u001b[0;34m)\u001b[0m\u001b[0;34m\u001b[0m\u001b[0;34m\u001b[0m\u001b[0m\n\u001b[0m\u001b[1;32m     21\u001b[0m     \u001b[0msearch_dict\u001b[0m\u001b[0;34m[\u001b[0m\u001b[0;34m\"train_accuracy\"\u001b[0m\u001b[0;34m]\u001b[0m \u001b[0;34m=\u001b[0m \u001b[0macc_train\u001b[0m\u001b[0;34m\u001b[0m\u001b[0;34m\u001b[0m\u001b[0m\n\u001b[1;32m     22\u001b[0m \u001b[0;34m\u001b[0m\u001b[0m\n",
      "\u001b[0;31mNameError\u001b[0m: name 'cat_nn' is not defined"
     ]
    }
   ],
   "source": [
    "search_list = []\n",
    "\n",
    "for i in range(num_searches):\n",
    "    \n",
    "    search_dict = {}\n",
    "    search_dict[\"learning_rate\"] = learning_rate_search[i]\n",
    "    search_dict[\"lambd\"] = lambd_search[i]\n",
    "    \n",
    "    churn_nn.fit_binary(layer_dimensions = [norm_X_train.shape[0], 20, 10, 5, 1],\n",
    "                        learning_rate = learning_rate_search[i],\n",
    "                        learning_decay_rate = 1.25e-7,\n",
    "                        lambd = lambd_search[i],\n",
    "                        minibatched = True,\n",
    "                        minibatch_size = 256,\n",
    "                        optimizer = \"adam\",\n",
    "                        num_epochs = 5000,\n",
    "                        print_cost = False)\n",
    "    \n",
    "    print(\"TRAINING:\")\n",
    "    pred_train, acc_train = cat_nn.predict_binary(X = norm_X_train, y = y_train)\n",
    "    search_dict[\"train_accuracy\"] = acc_train\n",
    "    \n",
    "    print(\"TESTING:\")\n",
    "    pred_test, acc_test = cat_nn.predict_binary(X = norm_X_test, y = y_test)\n",
    "    search_dict[\"test_accuracy\"] = acc_test\n",
    "    \n",
    "    search_list.append(search_dict)"
   ]
  },
  {
   "cell_type": "code",
   "execution_count": null,
   "metadata": {
    "ExecuteTime": {
     "end_time": "2020-01-28T07:19:57.176203Z",
     "start_time": "2020-01-28T07:16:06.746Z"
    }
   },
   "outputs": [],
   "source": [
    "peak_accuracy = np.max(list(x[\"test_accuracy\"] for x in search_list))\n",
    "opt_learning_rate = 0\n",
    "opt_lambd = 0\n",
    "for d in search_list:\n",
    "    if d[\"test_accuracy\"] == peak_accuracy:\n",
    "        opt_learning_rate = d[\"learning_rate\"]\n",
    "        opt_lambd = d[\"lambd\"]\n",
    "print(\"Optimal Learning Rate:\", opt_learning_rate)\n",
    "print(\"Optimal Lambda:\", opt_lambd)"
   ]
  },
  {
   "cell_type": "markdown",
   "metadata": {},
   "source": [
    "## Final Run"
   ]
  },
  {
   "cell_type": "code",
   "execution_count": null,
   "metadata": {
    "ExecuteTime": {
     "end_time": "2020-01-28T07:19:57.186726Z",
     "start_time": "2020-01-28T07:16:06.753Z"
    }
   },
   "outputs": [],
   "source": [
    "# churn_nn.fit_binary(layer_dimensions = [norm_X_train.shape[0], 20, 10, 5, 1],\n",
    "#                     optimizer = \"adam\",\n",
    "#                     learning_rate = 0.0015,\n",
    "#                     lambd = 0.07,\n",
    "#                     learning_decay_rate = 1.25e-7,\n",
    "#                     minibatched = True,\n",
    "#                     minibatch_size = 256,\n",
    "#                     num_epochs = 8000)"
   ]
  },
  {
   "cell_type": "code",
   "execution_count": null,
   "metadata": {
    "ExecuteTime": {
     "end_time": "2020-01-28T07:19:57.205729Z",
     "start_time": "2020-01-28T07:16:06.757Z"
    }
   },
   "outputs": [],
   "source": [
    "churn_nn.fit_binary(layer_dimensions = [norm_X_train.shape[0], 20, 10, 5, 1],\n",
    "                    learning_rate = opt_learning_rate,\n",
    "                    learning_decay_rate = 1.25e-7,\n",
    "                    lambd = opt_lambd,\n",
    "                    minibatched = True,\n",
    "                    minibatch_size = 256,\n",
    "                    optimizer = \"adam\",\n",
    "                    num_epochs = 5000,\n",
    "                    print_cost = False)"
   ]
  },
  {
   "cell_type": "markdown",
   "metadata": {},
   "source": [
    "### Training Performance"
   ]
  },
  {
   "cell_type": "code",
   "execution_count": null,
   "metadata": {
    "ExecuteTime": {
     "end_time": "2020-01-28T07:19:57.217801Z",
     "start_time": "2020-01-28T07:16:06.763Z"
    }
   },
   "outputs": [],
   "source": [
    "pred_train, acc_train = churn_nn.predict_binary(norm_X_train, y_train)"
   ]
  },
  {
   "cell_type": "code",
   "execution_count": null,
   "metadata": {
    "ExecuteTime": {
     "end_time": "2020-01-28T07:19:57.225660Z",
     "start_time": "2020-01-28T07:16:06.768Z"
    }
   },
   "outputs": [],
   "source": [
    "print(\"Precision:\", precision_score(y_train[0], pred_train[0]))\n",
    "print(\"Recall:\", recall_score(y_train[0], pred_train[0]))"
   ]
  },
  {
   "cell_type": "code",
   "execution_count": null,
   "metadata": {
    "ExecuteTime": {
     "end_time": "2020-01-28T07:19:57.234031Z",
     "start_time": "2020-01-28T07:16:06.772Z"
    }
   },
   "outputs": [],
   "source": [
    "tn, fp, fn, tp = confusion_matrix(y_train[0], pred_train[0]).ravel()\n",
    "pd.DataFrame([[tn, fp], [fn, tp]], index = [\"label: 0\", \"label: 1\"], columns = [\"predicted: 0\", \"predicted: 1\"])"
   ]
  },
  {
   "cell_type": "markdown",
   "metadata": {},
   "source": [
    "### Test Performance"
   ]
  },
  {
   "cell_type": "code",
   "execution_count": null,
   "metadata": {
    "ExecuteTime": {
     "end_time": "2020-01-28T07:19:57.242228Z",
     "start_time": "2020-01-28T07:16:06.778Z"
    }
   },
   "outputs": [],
   "source": [
    "pred_test, acc_test = churn_nn.predict_binary(norm_X_test, y_test)"
   ]
  },
  {
   "cell_type": "code",
   "execution_count": null,
   "metadata": {
    "ExecuteTime": {
     "end_time": "2020-01-28T07:19:57.256372Z",
     "start_time": "2020-01-28T07:16:06.782Z"
    }
   },
   "outputs": [],
   "source": [
    "print(\"Precision:\", precision_score(y_test[0], pred_test[0]))\n",
    "print(\"Recall:\", recall_score(y_test[0], pred_test[0]))"
   ]
  },
  {
   "cell_type": "code",
   "execution_count": null,
   "metadata": {
    "ExecuteTime": {
     "end_time": "2020-01-28T07:19:57.262541Z",
     "start_time": "2020-01-28T07:16:06.790Z"
    }
   },
   "outputs": [],
   "source": [
    "tn, fp, fn, tp = confusion_matrix(y_test[0], pred_test[0]).ravel()\n",
    "pd.DataFrame([[tn, fp], [fn, tp]], index = [\"label: 0\", \"label: 1\"], columns = [\"predicted: 0\", \"predicted: 1\"])"
   ]
  }
 ],
 "metadata": {
  "kernelspec": {
   "display_name": "Python [conda env:root] *",
   "language": "python",
   "name": "conda-root-py"
  },
  "language_info": {
   "codemirror_mode": {
    "name": "ipython",
    "version": 3
   },
   "file_extension": ".py",
   "mimetype": "text/x-python",
   "name": "python",
   "nbconvert_exporter": "python",
   "pygments_lexer": "ipython3",
   "version": "3.7.4"
  },
  "latex_envs": {
   "LaTeX_envs_menu_present": true,
   "autoclose": false,
   "autocomplete": true,
   "bibliofile": "biblio.bib",
   "cite_by": "apalike",
   "current_citInitial": 1,
   "eqLabelWithNumbers": true,
   "eqNumInitial": 1,
   "hotkeys": {
    "equation": "Ctrl-E",
    "itemize": "Ctrl-I"
   },
   "labels_anchors": false,
   "latex_user_defs": false,
   "report_style_numbering": false,
   "user_envs_cfg": false
  },
  "toc": {
   "base_numbering": 1,
   "nav_menu": {},
   "number_sections": true,
   "sideBar": true,
   "skip_h1_title": false,
   "title_cell": "Table of Contents",
   "title_sidebar": "Contents",
   "toc_cell": false,
   "toc_position": {},
   "toc_section_display": true,
   "toc_window_display": true
  },
  "varInspector": {
   "cols": {
    "lenName": 16,
    "lenType": 16,
    "lenVar": 40
   },
   "kernels_config": {
    "python": {
     "delete_cmd_postfix": "",
     "delete_cmd_prefix": "del ",
     "library": "var_list.py",
     "varRefreshCmd": "print(var_dic_list())"
    },
    "r": {
     "delete_cmd_postfix": ") ",
     "delete_cmd_prefix": "rm(",
     "library": "var_list.r",
     "varRefreshCmd": "cat(var_dic_list()) "
    }
   },
   "types_to_exclude": [
    "module",
    "function",
    "builtin_function_or_method",
    "instance",
    "_Feature"
   ],
   "window_display": false
  }
 },
 "nbformat": 4,
 "nbformat_minor": 2
}
