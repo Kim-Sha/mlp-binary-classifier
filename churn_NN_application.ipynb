{
 "cells": [
  {
   "cell_type": "code",
   "execution_count": 1,
   "metadata": {},
   "outputs": [],
   "source": [
    "import time\n",
    "import numpy as np\n",
    "import pandas as pd\n",
    "from binary_nn import BinaryNN\n",
    "from sklearn import preprocessing\n",
    "from sklearn.metrics import accuracy_score"
   ]
  },
  {
   "cell_type": "markdown",
   "metadata": {},
   "source": [
    "# Data Prep"
   ]
  },
  {
   "cell_type": "code",
   "execution_count": 2,
   "metadata": {},
   "outputs": [],
   "source": [
    "X_train = np.loadtxt(\"x_train.csv\")\n",
    "y_train = np.loadtxt(\"y_train.csv\")\n",
    "X_test = np.loadtxt(\"x_test.csv\")\n",
    "y_test = np.loadtxt(\"y_test.csv\")"
   ]
  },
  {
   "cell_type": "markdown",
   "metadata": {},
   "source": [
    "## Reshaping"
   ]
  },
  {
   "cell_type": "code",
   "execution_count": 3,
   "metadata": {},
   "outputs": [],
   "source": [
    "X_train = X_train.T\n",
    "y_train = y_train.reshape(1, y_train.shape[0])\n",
    "X_test = X_test.T\n",
    "y_test = y_test.reshape(1, y_test.shape[0])"
   ]
  },
  {
   "cell_type": "code",
   "execution_count": 4,
   "metadata": {},
   "outputs": [
    {
     "name": "stdout",
     "output_type": "stream",
     "text": [
      "(39, 4930)\n",
      "(1, 4930)\n",
      "(39, 2113)\n",
      "(1, 2113)\n"
     ]
    }
   ],
   "source": [
    "print(X_train.shape)\n",
    "print(y_train.shape)\n",
    "print(X_test.shape)\n",
    "print(y_test.shape)"
   ]
  },
  {
   "cell_type": "markdown",
   "metadata": {},
   "source": [
    "## Normalization"
   ]
  },
  {
   "cell_type": "code",
   "execution_count": 5,
   "metadata": {},
   "outputs": [
    {
     "data": {
      "text/plain": [
       "StandardScaler(copy=True, with_mean=True, with_std=True)"
      ]
     },
     "execution_count": 5,
     "metadata": {},
     "output_type": "execute_result"
    }
   ],
   "source": [
    "scaler = preprocessing.StandardScaler()\n",
    "scaler.fit(X_train)"
   ]
  },
  {
   "cell_type": "code",
   "execution_count": 6,
   "metadata": {},
   "outputs": [],
   "source": [
    "norm_X_train = scaler.transform(X_train)\n",
    "norm_y_train = scaler.transform(y_train)"
   ]
  },
  {
   "cell_type": "markdown",
   "metadata": {},
   "source": [
    "# Binary Neural Network"
   ]
  },
  {
   "cell_type": "code",
   "execution_count": 7,
   "metadata": {},
   "outputs": [],
   "source": [
    "layer_dims = [39, 20, 10, 5, 1]"
   ]
  },
  {
   "cell_type": "code",
   "execution_count": 8,
   "metadata": {},
   "outputs": [],
   "source": [
    "churn_nn = BinaryNN(norm_X_train, y_train)"
   ]
  },
  {
   "cell_type": "code",
   "execution_count": 9,
   "metadata": {
    "scrolled": false
   },
   "outputs": [
    {
     "data": {
      "image/png": "[encoded data removed]",
      "text/plain": [
       "<Figure size 432x288 with 1 Axes>"
      ]
     },
     "metadata": {
      "needs_background": "light"
     },
     "output_type": "display_data"
    }
   ],
   "source": [
    "parameters = churn_nn.L_layer_model(layer_dimensions = layer_dims)"
   ]
  },
  {
   "cell_type": "code",
   "execution_count": 10,
   "metadata": {
    "scrolled": false
   },
   "outputs": [
    {
     "data": {
      "text/plain": [
       "{'W1': array([[ 1.62431355e-02, -6.11789691e-03, -5.28205711e-03,\n",
       "         -1.07299305e-02,  8.65379613e-03, -2.30156586e-02,\n",
       "          1.74531948e-02, -7.60549129e-03,  3.19009893e-03,\n",
       "         -2.49403026e-03,  1.46207456e-02, -2.06017130e-02,\n",
       "         -3.22446716e-03, -3.84089479e-03,  1.13374356e-02,\n",
       "         -1.09992639e-02, -1.72462429e-03, -8.77884867e-03,\n",
       "          4.21786225e-04,  5.82781561e-03, -1.10064579e-02,\n",
       "          1.14468859e-02,  9.01557226e-03,  5.02468378e-03,\n",
       "          9.00820825e-03, -6.83762001e-03, -1.22917760e-03,\n",
       "         -9.35804558e-03, -2.67920647e-03,  5.30327913e-03,\n",
       "         -6.91695876e-03, -3.96786076e-03, -6.87197710e-03,\n",
       "         -8.45240771e-03, -6.71281218e-03, -1.26988041e-04,\n",
       "         -1.11734487e-02,  2.34387180e-03,  1.65976964e-02],\n",
       "        [ 7.42044161e-03, -1.91835552e-03, -8.87628964e-03,\n",
       "         -7.47158294e-03,  1.69245460e-02,  5.08077548e-04,\n",
       "         -6.36995647e-03,  1.90915485e-03,  2.10025514e-02,\n",
       "          1.20158952e-03,  6.17203110e-03,  3.00170320e-03,\n",
       "         -3.52249846e-03, -1.14251820e-02, -3.49342722e-03,\n",
       "         -2.08894233e-03,  5.86623191e-03,  8.38983414e-03,\n",
       "          9.31102081e-03,  2.85587325e-03,  8.85141164e-03,\n",
       "         -7.54397941e-03,  1.25286816e-02,  5.12929820e-03,\n",
       "         -2.98092835e-03,  4.88518147e-03, -7.55717130e-04,\n",
       "          1.13162939e-02,  1.51981682e-02,  2.18557541e-02,\n",
       "         -1.39649634e-02, -1.44411381e-02, -5.04465863e-03,\n",
       "          1.60037069e-03,  8.76168921e-03,  3.15634947e-03,\n",
       "         -2.02220122e-02, -3.06204013e-03,  8.27974643e-03],\n",
       "        [ 2.30164716e-03,  7.62080202e-03, -2.22258933e-03,\n",
       "         -2.00765206e-03,  1.86628874e-03,  4.10120114e-03,\n",
       "          1.98197574e-03,  1.16625550e-03, -6.70594436e-03,\n",
       "          3.77633020e-03,  1.21891909e-03,  1.12955176e-02,\n",
       "          1.19898882e-02,  1.85225348e-03, -3.75216397e-03,\n",
       "         -6.38661477e-03,  4.23564592e-03,  7.74084360e-04,\n",
       "         -3.43784745e-03,  4.36672802e-04, -6.19932672e-03,\n",
       "          6.98100964e-03, -4.47057945e-03,  1.22457608e-02,\n",
       "          4.03560572e-03,  5.93648944e-03, -1.09484406e-02,\n",
       "          1.69451363e-03,  7.40627456e-03, -9.53632086e-03,\n",
       "         -2.66149576e-03,  3.26848216e-04, -1.37304901e-02,\n",
       "          3.15229237e-03,  8.46230214e-03, -8.59445599e-03,\n",
       "          3.50615796e-03, -1.31221503e-02, -3.86253250e-04],\n",
       "        [-1.61577099e-02,  1.12141791e-02,  4.08900534e-03,\n",
       "         -2.46155934e-04, -7.75161537e-03,  1.27375698e-02,\n",
       "          1.96706776e-02, -1.85798050e-02,  1.23616445e-02,\n",
       "          1.62765203e-02,  3.38012720e-03, -1.19926681e-02,\n",
       "          8.63346680e-03, -1.80920165e-03, -6.03919265e-03,\n",
       "         -1.23005800e-02,  5.50538717e-03,  7.92808143e-03,\n",
       "         -6.23530592e-03,  5.20577644e-03, -1.14434003e-02,\n",
       "          8.01861169e-03,  4.65685193e-04, -1.86568465e-03,\n",
       "         -1.01745735e-03,  8.68887434e-03,  7.50413002e-03,\n",
       "          5.29465462e-03,  1.37702431e-03,  7.78224045e-04,\n",
       "          6.18380399e-03,  2.32495866e-03,  6.82552769e-03,\n",
       "         -3.10115641e-03, -2.43483754e-02,  1.03882588e-02,\n",
       "          2.18698101e-02,  4.41365806e-03, -1.00155152e-03],\n",
       "        [-1.36444904e-03, -1.19054266e-03,  1.74093296e-04,\n",
       "         -1.12201889e-02, -5.17094586e-03, -9.97026938e-03,\n",
       "          2.48804186e-03, -2.96641312e-03,  4.95211196e-03,\n",
       "         -1.74703270e-03,  9.86335028e-03,  2.13533823e-03,\n",
       "          2.19069957e-02, -1.89636108e-02, -6.46916848e-03,\n",
       "          9.01486732e-03,  2.52832563e-02, -2.48634888e-03,\n",
       "          4.36688331e-04, -2.26314371e-03,  1.33145695e-02,\n",
       "         -2.87308024e-03,  6.80069761e-03, -3.19801727e-03,\n",
       "         -1.27255892e-02,  3.13547610e-03,  5.03184653e-03,\n",
       "          1.29322572e-02, -1.10447105e-03, -6.17362174e-03,\n",
       "          5.62760937e-03,  2.40736964e-03,  2.80664917e-03,\n",
       "         -7.31128638e-04,  1.16033849e-02,  3.69492606e-03,\n",
       "          1.90465855e-02,  1.11105654e-02,  6.59049668e-03],\n",
       "        [-1.62737269e-02,  6.02385721e-03,  4.20349648e-03,\n",
       "          8.10999416e-03,  1.04449280e-02, -4.00824213e-03,\n",
       "          8.22868716e-03, -5.63474161e-03,  1.95493094e-02,\n",
       "         -1.33188374e-02, -1.76062096e-02, -1.65065804e-02,\n",
       "         -8.90497079e-03, -1.11904873e-02,  1.95613087e-02,\n",
       "         -3.26432834e-03, -1.34260603e-02,  1.11443636e-02,\n",
       "         -5.86457275e-03, -1.23678504e-02,  8.75892580e-03,\n",
       "          6.23428840e-03, -4.34888609e-03,  1.40759233e-02,\n",
       "          1.29168243e-03,  1.61701899e-02,  5.02796146e-03,\n",
       "          1.55887220e-02,  1.09469159e-03, -1.21968881e-02,\n",
       "          2.44943531e-02, -5.45708025e-03, -1.98791378e-03,\n",
       "         -7.00327612e-03, -2.03323437e-03,  2.42738194e-03,\n",
       "          2.01900675e-03,  6.61076848e-03,  1.79222054e-02],\n",
       "        [-1.20464572e-03, -1.23312074e-02, -1.18231813e-02,\n",
       "         -6.65754518e-03, -1.67419581e-02,  8.25029824e-03,\n",
       "         -4.98213564e-03, -3.10984978e-03, -1.89148284e-05,\n",
       "         -1.39662042e-02, -8.61316361e-03,  6.74711526e-03,\n",
       "          6.18539131e-03, -4.43171931e-03,  1.81053491e-02,\n",
       "         -1.30572692e-02, -3.44987210e-03, -2.30839743e-03,\n",
       "         -2.79308500e-02,  1.93752881e-02,  3.66332015e-03,\n",
       "         -1.04458938e-02,  2.05117344e-02,  5.85662000e-03,\n",
       "          4.29526140e-03, -6.06998398e-03,  1.06222724e-03,\n",
       "         -1.52568032e-02,  7.95026094e-03, -3.74438319e-03,\n",
       "          1.34048197e-03,  1.20205486e-02,  2.84748111e-03,\n",
       "          2.62467445e-03,  2.76499305e-03, -7.33271604e-03,\n",
       "          8.36004719e-03,  1.54335911e-02,  7.58805660e-03],\n",
       "        [ 8.84837358e-03, -8.77355489e-03, -8.67862510e-03,\n",
       "         -1.44092915e-02,  1.23219439e-02, -2.54240287e-03,\n",
       "          1.40110665e-02, -7.80602886e-03, -4.37570025e-03,\n",
       "          9.53515192e-04,  9.21374605e-03,  6.06818358e-04,\n",
       "          2.11058969e-03,  1.64516405e-04,  1.77130857e-03,\n",
       "         -1.11654594e-02,  8.08498177e-04, -1.86637362e-03,\n",
       "         -5.69004077e-04,  4.92260778e-03, -6.80736853e-03,\n",
       "         -8.45839542e-04, -2.97437318e-03,  4.17245359e-03,\n",
       "          7.84694724e-03, -9.55502763e-03,  5.85850717e-03,\n",
       "          2.06570739e-02, -1.47123136e-02, -8.30232677e-03,\n",
       "         -8.80653527e-03, -2.79171087e-03,  1.62279667e-02,\n",
       "          1.32739075e-04, -6.94772485e-03,  6.21727383e-03,\n",
       "         -5.99882935e-03,  1.12335046e-02,  3.05195371e-03],\n",
       "        [ 1.38877940e-02, -6.61344243e-03,  3.03085711e-02,\n",
       "          8.24584625e-03,  6.54580153e-03, -5.11884476e-04,\n",
       "         -7.25597119e-03, -8.67768678e-03, -1.35977326e-03,\n",
       "         -7.97269785e-03,  2.82675712e-03, -8.26097432e-03,\n",
       "          6.21082701e-03,  9.56121704e-03, -7.05840507e-03,\n",
       "          1.19268607e-02, -2.37941936e-03,  1.15528789e-02,\n",
       "          4.38166347e-03,  1.12232832e-02, -9.97019796e-03,\n",
       "         -1.06793987e-03,  1.45142926e-02, -6.18036848e-03,\n",
       "         -2.03720123e-02, -1.94258918e-02, -2.50644065e-02,\n",
       "         -2.11416392e-02, -4.11639163e-03,  1.27852808e-02,\n",
       "         -4.42229280e-03,  3.23527354e-03, -1.09991490e-03,\n",
       "          8.54894544e-05, -1.68198840e-03, -1.74180344e-03,\n",
       "          4.61164100e-03, -1.17598267e-02,  1.01012718e-02],\n",
       "        [ 9.20017933e-03, -1.95057341e-03,  8.05393424e-03,\n",
       "         -7.01344426e-03, -5.37223024e-03,  1.56263850e-03,\n",
       "         -1.90221025e-03, -4.48738033e-03, -6.72448039e-03,\n",
       "         -5.57494722e-03,  9.39168744e-03, -1.94332341e-02,\n",
       "          3.52494364e-03, -2.36436952e-03,  7.27813500e-03,\n",
       "          5.15073614e-03, -2.78253447e-02,  5.84646610e-03,\n",
       "          3.24274243e-03,  2.18628366e-04, -4.68673816e-03,\n",
       "          8.53281222e-03, -4.13029310e-03,  1.83471763e-02,\n",
       "          5.64382855e-03,  2.13782807e-02, -7.85533997e-03,\n",
       "         -1.75592564e-02,  7.14789597e-03,  8.52704062e-03,\n",
       "          3.53600971e-04, -1.53879325e-02, -4.47895185e-03,\n",
       "          6.17985534e-03, -1.84176326e-03, -1.15985185e-03,\n",
       "         -1.75458969e-03, -9.33914656e-03, -5.33020326e-03],\n",
       "        [-1.42654552e-02,  1.76797010e-02, -4.75362343e-03,\n",
       "          4.77619367e-03, -1.02187587e-02,  7.94537186e-03,\n",
       "         -1.87326495e-02,  9.20348324e-03, -3.53572820e-04,\n",
       "          2.11061476e-02, -1.30652427e-02,  7.63898487e-04,\n",
       "          3.67240941e-03,  1.23291086e-02, -4.22848834e-03,\n",
       "          8.64760707e-04, -2.14245636e-02, -8.30160436e-03,\n",
       "          4.51627615e-03,  1.10418439e-02, -2.81727801e-03,\n",
       "          2.05636719e-02,  1.76025925e-02, -6.06441719e-04,\n",
       "         -2.41349134e-02, -1.77755620e-02, -7.77850139e-03,\n",
       "          1.11585277e-02,  3.10282096e-03, -2.09423894e-02,\n",
       "         -2.28754165e-03,  1.61337099e-02, -3.74795496e-03,\n",
       "         -7.49959083e-03,  2.05463454e-02,  5.34200189e-04,\n",
       "         -4.79146907e-03,  3.50175654e-03,  1.71760930e-04],\n",
       "        [-4.28960461e-03,  1.20863165e-02,  1.11587505e-02,\n",
       "          8.40769547e-03, -1.02713949e-03,  1.14708388e-02,\n",
       "         -4.91582937e-04,  4.59803048e-03,  1.03385819e-02,\n",
       "          8.09024663e-03,  1.78993527e-02,  4.51464187e-03,\n",
       "         -1.68387401e-02, -1.16000404e-02,  1.35029561e-02,\n",
       "         -3.31117102e-03,  3.86716505e-03, -8.51268724e-03,\n",
       "          1.00104749e-02, -3.84653035e-03,  1.45829459e-02,\n",
       "         -5.32067953e-03,  1.11831319e-02,  6.74584032e-03,\n",
       "         -7.22225838e-03,  1.09917455e-02, -9.01449745e-03,\n",
       "         -8.22301121e-03,  7.21892693e-03, -6.25157709e-03,\n",
       "         -5.93676999e-03, -3.43718855e-03, -9.99984316e-03,\n",
       "          1.04516799e-02,  6.08688454e-03, -6.91512251e-04,\n",
       "         -1.08215641e-03,  4.50340920e-03,  1.76550665e-02],\n",
       "        [ 8.70969803e-03, -5.08457134e-03,  7.77419205e-03,\n",
       "         -1.18771172e-03, -1.98998184e-03,  1.86647138e-02,\n",
       "         -4.18937898e-03, -4.79184915e-03, -1.95210529e-02,\n",
       "         -1.40232915e-02,  4.51122939e-03, -6.94920901e-03,\n",
       "          5.15413802e-03, -1.11487105e-02, -7.67309826e-03,\n",
       "          6.74570707e-03,  1.46089238e-02,  5.92472801e-03,\n",
       "          1.19783084e-02,  1.70459417e-02,  1.04008915e-02,\n",
       "         -9.18440038e-03, -1.05344713e-03,  6.30195671e-03,\n",
       "         -4.14846901e-03,  4.51946037e-03, -1.57915629e-02,\n",
       "         -8.28627979e-03,  5.28879746e-03, -2.23708651e-02,\n",
       "         -1.10771250e-02, -1.77183179e-04, -1.71939447e-02,\n",
       "          5.71209961e-04, -7.99547491e-03, -2.91594596e-03,\n",
       "         -2.58982853e-03,  1.89293198e-03, -5.63788735e-03],\n",
       "        [ 8.96296900e-04, -6.01210732e-03,  5.56020457e-03,\n",
       "          1.69385180e-02,  1.96816324e-03,  1.69810888e-03,\n",
       "         -1.16429516e-02,  6.95585507e-03, -7.58119573e-03,\n",
       "         -8.08903104e-03,  5.57383185e-03,  1.80982350e-03,\n",
       "          1.10711658e-02,  1.44282777e-02, -5.39742057e-03,\n",
       "          1.28327834e-03,  1.76036041e-02,  9.66479597e-03,\n",
       "          7.12999894e-03,  1.30615045e-02, -6.04662379e-03,\n",
       "          6.36534253e-03,  1.40919753e-02,  1.62085214e-02,\n",
       "         -8.06233973e-03, -2.51729325e-03,  3.82656319e-03,\n",
       "         -2.89046499e-03, -3.91872649e-03,  6.83942663e-03,\n",
       "         -3.53459139e-03, -1.78796949e-02,  3.61789099e-03,\n",
       "         -4.24545782e-03, -7.31584194e-03, -1.56579265e-02,\n",
       "          1.01376793e-02, -2.22717138e-02, -1.69938531e-02],\n",
       "        [-2.75846293e-03,  1.22895555e-02,  1.30970591e-02,\n",
       "         -1.15498287e-02, -1.77632208e-03, -1.51045656e-02,\n",
       "          1.01121281e-02, -1.47656289e-02, -1.43195817e-03,\n",
       "          1.03298356e-02, -2.22414199e-03,  1.47016014e-02,\n",
       "         -8.70008454e-03,  3.69190449e-03,  8.53281955e-03,\n",
       "         -1.39711751e-03,  1.38631406e-02,  5.48129368e-03,\n",
       "         -1.63744961e-02,  3.95860248e-02,  6.48643413e-03,\n",
       "          1.07343273e-03, -1.39881303e-02,  8.17675969e-04,\n",
       "         -4.59942852e-03,  6.44353449e-03,  3.71670060e-03,\n",
       "          1.85300946e-02,  1.42251164e-03,  5.13505263e-03,\n",
       "          3.72456831e-03, -1.48490025e-03, -1.83400428e-03,\n",
       "          1.10100001e-02,  7.80027100e-03, -6.29441821e-03,\n",
       "         -1.11343633e-02, -6.74102558e-04,  1.16143997e-02],\n",
       "        [-2.76381014e-04,  1.74633265e-02, -7.75170608e-03,\n",
       "          1.41758103e-03, -2.51641429e-02, -5.95785935e-03,\n",
       "         -3.10409952e-03,  5.15938776e-03,  1.71055506e-02,\n",
       "          3.48377212e-04,  1.45381148e-02,  6.61572197e-03,\n",
       "          9.86235314e-03, -4.66247863e-03,  1.38486734e-02,\n",
       "         -1.07305729e-02,  4.95056873e-03, -9.52183697e-03,\n",
       "         -5.18238559e-03, -1.46150775e-02, -5.16468518e-03,\n",
       "          3.51023890e-03, -6.88755996e-04, -1.34788818e-02,\n",
       "          1.47064685e-02,  3.37118433e-03,  1.00794745e-02,\n",
       "          7.85133913e-03, -6.64975525e-03, -1.94516477e-02,\n",
       "         -9.15517375e-03,  1.22504791e-02, -1.05366950e-02,\n",
       "          8.15946397e-03, -6.12505013e-03,  3.93007011e-03,\n",
       "         -1.82401984e-02,  1.16695793e-02, -3.97704504e-04],\n",
       "        [ 8.85809675e-03,  1.89845798e-03,  7.98047880e-03,\n",
       "         -1.01932829e-03,  7.43340875e-03, -1.50958857e-02,\n",
       "         -1.08069478e-02,  7.26034620e-03, -3.91941334e-04,\n",
       "         -2.28770309e-03, -1.79628289e-03,  5.01709151e-03,\n",
       "         -5.93359758e-03,  5.10291549e-03, -9.15807730e-03,\n",
       "         -4.07268091e-03,  9.84935591e-03,  1.07123656e-02,\n",
       "         -1.09717041e-02,  8.38618653e-03, -1.03919821e-02,\n",
       "          7.33007184e-03, -1.89882813e-02, -1.11712658e-02,\n",
       "         -5.08988326e-03, -1.66502025e-03,  1.42359856e-02,\n",
       "          9.03983126e-03,  1.57545182e-02,  1.20659207e-02,\n",
       "         -2.82879600e-03, -2.66343021e-03,  1.06895567e-02,\n",
       "          4.03553738e-04, -1.57009669e-03, -1.33521876e-02,\n",
       "         -1.06476170e-03, -2.79101245e-02, -4.56133647e-03],\n",
       "        [-9.79889913e-03,  6.92574401e-03, -4.78672359e-03,\n",
       "         -3.29051211e-03,  1.34710548e-02, -1.04906748e-02,\n",
       "          3.16650473e-03, -1.89526661e-02,  8.97292227e-04,\n",
       "          4.10266063e-03,  8.59871222e-03, -8.98682889e-03,\n",
       "          3.19657280e-03,  3.18154230e-03, -1.92312958e-04,\n",
       "          1.50016309e-03,  4.63534627e-03,  3.97880743e-03,\n",
       "         -9.96010858e-03, -1.19586119e-02,  2.50598062e-02,\n",
       "          1.91979232e-02, -1.39169357e-02,  4.50218067e-03,\n",
       "          6.27437113e-03,  7.51337553e-03,  1.40395775e-03,\n",
       "         -9.26871909e-03, -1.82420102e-03, -4.91124820e-03,\n",
       "          1.34373147e-03, -2.68370979e-03, -1.31675288e-03,\n",
       "          1.01855276e-02,  1.23055825e-02, -1.18110285e-02,\n",
       "         -4.59929766e-03, -7.90799616e-03,  1.22372223e-02],\n",
       "        [-5.93678563e-04,  1.44898940e-02, -4.77580863e-03,\n",
       "          2.60000405e-04, -1.34869645e-02,  1.30253557e-02,\n",
       "         -3.62613122e-03, -1.48515641e-02, -5.92461293e-03,\n",
       "         -2.30490789e-02, -3.18171264e-04,  1.12487789e-03,\n",
       "          2.88078213e-03,  1.49810818e-02, -3.00976108e-03,\n",
       "          8.07455909e-03,  3.12238735e-03, -1.93321594e-03,\n",
       "         -2.07680203e-02,  9.47501214e-03, -5.03973903e-03,\n",
       "          1.79558835e-04, -1.27046073e-02,  2.82995580e-03,\n",
       "          1.08030809e-03,  2.94176652e-04, -1.34793083e-03,\n",
       "          1.04921828e-02,  9.66220909e-03,  7.25916899e-03,\n",
       "          3.32107875e-02, -6.00225284e-03, -3.79517469e-03,\n",
       "         -1.01480366e-02,  4.35986205e-03, -6.87487347e-03,\n",
       "         -2.69836170e-02, -1.21333808e-02,  7.22518910e-04],\n",
       "        [ 1.00975027e-02, -1.55697939e-02, -6.12480618e-03,\n",
       "         -1.39381092e-03, -7.28567484e-03,  5.31132653e-03,\n",
       "          4.65526129e-05,  3.21939962e-03, -7.25246396e-03,\n",
       "          1.53649791e-02, -4.13586112e-06,  1.29351398e-02,\n",
       "         -4.39031324e-03,  5.90000301e-03, -6.79413290e-03,\n",
       "         -9.50948414e-03, -7.04390123e-03, -4.58969700e-04,\n",
       "         -2.18772622e-03,  1.53916800e-02, -1.14873471e-02,\n",
       "         -1.09037750e-02,  1.70014933e-02,  6.08754085e-03,\n",
       "         -1.88145003e-02,  4.97229375e-03,  2.37301568e-03,\n",
       "         -2.14448321e-02, -3.69600592e-03, -1.74863861e-04,\n",
       "          7.31363354e-03,  9.54457803e-03,  9.57189496e-04,\n",
       "          1.03341035e-02, -1.46313459e-03, -8.57536191e-03,\n",
       "         -9.34222004e-03,  5.42613230e-03, -1.95820601e-02]]),\n",
       " 'b1': array([[ 1.37610547e-06],\n",
       "        [ 0.00000000e+00],\n",
       "        [-3.93909792e-06],\n",
       "        [-5.55580115e-08],\n",
       "        [ 8.16102361e-09],\n",
       "        [-2.66627763e-06],\n",
       "        [ 0.00000000e+00],\n",
       "        [ 2.98072071e-06],\n",
       "        [ 0.00000000e+00],\n",
       "        [ 0.00000000e+00],\n",
       "        [-4.66441987e-07],\n",
       "        [-1.09712679e-05],\n",
       "        [ 0.00000000e+00],\n",
       "        [ 3.52760286e-06],\n",
       "        [ 9.39261612e-09],\n",
       "        [ 7.44537111e-06],\n",
       "        [ 9.13887828e-07],\n",
       "        [-1.37679387e-08],\n",
       "        [-1.69740120e-09],\n",
       "        [ 1.53175460e-06]]),\n",
       " 'W2': array([[ 0.00677631, -0.01106573, -0.00359254,  0.0050539 ,  0.01217941,\n",
       "         -0.01940689, -0.00806178,  0.00048972, -0.00596086,  0.00861623,\n",
       "         -0.02086391,  0.00361802,  0.0042592 ,  0.0004908 ,  0.01102241,\n",
       "         -0.01229609,  0.01108617, -0.00702918,  0.00725551, -0.00324289],\n",
       "        [ 0.0081476 ,  0.0078047 , -0.01463949, -0.00154506, -0.00092432,\n",
       "         -0.0023785 , -0.00755663,  0.01851638,  0.00209097,  0.01555016,\n",
       "         -0.00569041, -0.01061755,  0.00132248, -0.00563152,  0.02390139,\n",
       "          0.00245648,  0.01152748, -0.0022424 , -0.00326061, -0.0003057 ],\n",
       "        [ 0.0035608 ,  0.00849587, -0.00122159, -0.00680853, -0.01067877,\n",
       "         -0.00076652,  0.00572963,  0.00458124, -0.00017818, -0.00600139,\n",
       "          0.00145666,  0.0057155 , -0.00036818,  0.00111578, -0.00150505,\n",
       "          0.00914996, -0.00439065,  0.00185535,  0.00394428,  0.00725278],\n",
       "        [ 0.01495435,  0.00675454,  0.00599222, -0.01470221,  0.00606404,\n",
       "          0.0229369 , -0.00830011, -0.01019735, -0.00214654,  0.01021248,\n",
       "          0.00526159, -0.00476797, -0.0003599 ,  0.01038052,  0.00672628,\n",
       "          0.02429522,  0.01006795,  0.00353571,  0.00614726, -0.0034867 ],\n",
       "        [-0.00977846,  0.00171957,  0.00490672, -0.01395283, -0.00522356,\n",
       "         -0.00369257,  0.00265642, -0.00260481,  0.00445097,  0.00098112,\n",
       "          0.01062428, -0.0171068 ,  0.01657125,  0.01419184,  0.00050317,\n",
       "          0.00651402,  0.00608201, -0.0073729 ,  0.00164665,  0.00778913],\n",
       "        [ 0.00309899,  0.01051321,  0.0009501 ,  0.00080748, -0.00767804,\n",
       "         -0.00364533, -0.00459718,  0.01705526,  0.00240506, -0.00999427,\n",
       "          0.00398598, -0.00192004, -0.03053764,  0.00479852, -0.015527  ,\n",
       "          0.00578481, -0.00961264, -0.01458325,  0.00494342, -0.01494156],\n",
       "        [-0.00446699,  0.00204377,  0.00612188,  0.00744885, -0.00036281,\n",
       "         -0.00832395,  0.01923815, -0.00605981,  0.01803589, -0.00452525,\n",
       "          0.01160637,  0.01069811, -0.01045534,  0.00354816,  0.00755392,\n",
       "          0.00700625, -0.00199462,  0.0030196 , -0.0039469 , -0.01172077],\n",
       "        [ 0.00984238, -0.00559681,  0.01379696,  0.00602435, -0.00892647,\n",
       "         -0.00161185, -0.00286385, -0.00870775,  0.0050143 , -0.00478614,\n",
       "          0.01630258,  0.00860548, -0.00880189, -0.00020036, -0.00226768,\n",
       "         -0.01565262,  0.0093009 ,  0.00949805,  0.00925501, -0.0045748 ],\n",
       "        [ 0.01069499, -0.00209753,  0.00935138,  0.01812509,  0.0014011 ,\n",
       "         -0.01419117, -0.00316901,  0.00641232,  0.01219874, -0.01133792,\n",
       "         -0.00192155,  0.00232966,  0.00434998,  0.00909269, -0.00948449,\n",
       "         -0.00424214,  0.01006703,  0.0039233 ,  0.00448381,  0.01124966],\n",
       "        [ 0.00104053,  0.00528003, -0.00314564, -0.0134501 , -0.01295258,\n",
       "          0.00074321, -0.00199561, -0.00654603,  0.00318014, -0.00890272,\n",
       "          0.00111337, -0.00019523, -0.00839989, -0.02298206,  0.01456527,\n",
       "          0.00316637, -0.02664126, -0.00426429,  0.00393788, -0.00228141]]),\n",
       " 'b2': array([[-3.32442868e-05],\n",
       "        [ 1.28865587e-04],\n",
       "        [-9.16867613e-05],\n",
       "        [ 1.18807698e-04],\n",
       "        [ 2.89590845e-04],\n",
       "        [ 1.55275960e-05],\n",
       "        [-1.01302845e-04],\n",
       "        [-1.84495872e-04],\n",
       "        [-1.35354236e-04],\n",
       "        [ 0.00000000e+00]]),\n",
       " 'W3': array([[ 0.0058033 , -0.00973268,  0.00175167, -0.00053485, -0.00183063,\n",
       "         -0.00221029,  0.00199759,  0.00932721, -0.0053012 , -0.0040724 ],\n",
       "        [ 0.00160554, -0.00120416,  0.00385789,  0.00719648,  0.01292735,\n",
       "         -0.00116544, -0.02276591, -0.00068872,  0.00354339, -0.00186955],\n",
       "        [-0.00153236, -0.02432509,  0.00507984, -0.00324032, -0.01511077,\n",
       "         -0.00871422, -0.0086483 ,  0.00608749,  0.00561638,  0.0151475 ],\n",
       "        [ 0.00647906, -0.0135213 , -0.01408873,  0.01133174,  0.01569475,\n",
       "         -0.00237929,  0.00560079, -0.01503534, -0.01943076, -0.01174024],\n",
       "        [-0.00357188, -0.00521376, -0.00230115, -0.00491019,  0.00679297,\n",
       "          0.01427547,  0.00036196,  0.02029995, -0.00634407, -0.00525103]]),\n",
       " 'b3': array([[-7.06357402e-06],\n",
       "        [ 4.29908736e-03],\n",
       "        [ 0.00000000e+00],\n",
       "        [ 7.75742537e-03],\n",
       "        [-2.44483753e-05]]),\n",
       " 'W4': array([[ 0.00387734, -0.00560156,  0.01177052, -0.0101054 ,  0.01322692]]),\n",
       " 'b4': array([[-1.02120079]])}"
      ]
     },
     "execution_count": 10,
     "metadata": {},
     "output_type": "execute_result"
    }
   ],
   "source": [
    "parameters"
   ]
  },
  {
   "cell_type": "code",
   "execution_count": 11,
   "metadata": {},
   "outputs": [],
   "source": [
    "def relu(Z):\n",
    "    \"\"\"\n",
    "    Implement the RELU function.\n",
    "\n",
    "    Arguments:\n",
    "    Z -- Output of the linear layer, of any shape\n",
    "\n",
    "    Returns:\n",
    "    A -- Post-activation parameter, of the same shape as Z\n",
    "    cache -- a python dictionary containing \"A\" ; stored for computing the backward pass efficiently\n",
    "    \"\"\"\n",
    "    \n",
    "    A = np.maximum(0,Z)\n",
    "    \n",
    "    assert(A.shape == Z.shape)\n",
    "    \n",
    "    cache = Z \n",
    "    return A, cache"
   ]
  },
  {
   "cell_type": "code",
   "execution_count": 12,
   "metadata": {},
   "outputs": [],
   "source": [
    "def sigmoid(Z):\n",
    "    \"\"\"\n",
    "    Implements the sigmoid activation in numpy\n",
    "    \n",
    "    Arguments:\n",
    "    Z -- numpy array of any shape\n",
    "    \n",
    "    Returns:\n",
    "    A -- output of sigmoid(z), same shape as Z\n",
    "    cache -- returns Z as well, useful during backpropagation\n",
    "    \"\"\"\n",
    "    \n",
    "    A = 1/(1+np.exp(-Z))\n",
    "    cache = Z\n",
    "    \n",
    "    return A, cache"
   ]
  },
  {
   "cell_type": "markdown",
   "metadata": {},
   "source": [
    "## Training Accuracy"
   ]
  },
  {
   "cell_type": "code",
   "execution_count": 13,
   "metadata": {},
   "outputs": [],
   "source": [
    "Z1 = np.dot(parameters[\"W1\"], norm_X_train) + parameters[\"b1\"]\n",
    "A1 = relu(Z1)[0]\n",
    "Z2 = np.dot(parameters[\"W2\"], A1) + parameters[\"b2\"]\n",
    "A2 = relu(Z2)[0]\n",
    "Z3 = np.dot(parameters[\"W3\"], A2) + parameters[\"b3\"]\n",
    "A3 = relu(Z3)[0]\n",
    "Z4 = np.dot(parameters[\"W4\"], A3) + parameters[\"b4\"]\n",
    "A4 = sigmoid(Z4)[0]"
   ]
  },
  {
   "cell_type": "code",
   "execution_count": 14,
   "metadata": {},
   "outputs": [
    {
     "data": {
      "text/plain": [
       "(1, 4930)"
      ]
     },
     "execution_count": 14,
     "metadata": {},
     "output_type": "execute_result"
    }
   ],
   "source": [
    "A4.shape"
   ]
  },
  {
   "cell_type": "code",
   "execution_count": 15,
   "metadata": {},
   "outputs": [
    {
     "data": {
      "text/plain": [
       "array([0.26477354, 0.26477354, 0.26477356, 0.26477354, 0.26477354,\n",
       "       0.26477366, 0.26477354, 0.26477364, 0.26477354, 0.26477354,\n",
       "       0.26477354, 0.26477354, 0.26477354, 0.26477355, 0.26477354,\n",
       "       0.26477354, 0.26477366, 0.26477354, 0.26477366, 0.26477357,\n",
       "       0.26477355, 0.26477354, 0.26477356, 0.26477364, 0.26477354,\n",
       "       0.26477354, 0.26477354, 0.26477359, 0.26477354, 0.26477354,\n",
       "       0.26477356, 0.26477354, 0.26477354, 0.26477366, 0.26477354,\n",
       "       0.26477366, 0.26477354, 0.26477354, 0.26477354, 0.26477354,\n",
       "       0.26477354, 0.26477354, 0.26477354, 0.26477354, 0.26477354,\n",
       "       0.26477354, 0.26477354, 0.26477354, 0.26477354, 0.26477354])"
      ]
     },
     "execution_count": 15,
     "metadata": {},
     "output_type": "execute_result"
    }
   ],
   "source": [
    "A4[0][500:550]"
   ]
  },
  {
   "cell_type": "code",
   "execution_count": 16,
   "metadata": {},
   "outputs": [
    {
     "data": {
      "text/plain": [
       "3635"
      ]
     },
     "execution_count": 16,
     "metadata": {},
     "output_type": "execute_result"
    }
   ],
   "source": [
    "len(np.where(y_train[0] == 0)[0])"
   ]
  },
  {
   "cell_type": "code",
   "execution_count": 17,
   "metadata": {},
   "outputs": [
    {
     "data": {
      "text/plain": [
       "0.7373225152129818"
      ]
     },
     "execution_count": 17,
     "metadata": {},
     "output_type": "execute_result"
    }
   ],
   "source": [
    "pred_train = np.where(A4 > 0.5, 1, 0)\n",
    "accuracy_score(y_train[0], pred_train[0])"
   ]
  },
  {
   "cell_type": "code",
   "execution_count": null,
   "metadata": {},
   "outputs": [],
   "source": []
  },
  {
   "cell_type": "markdown",
   "metadata": {},
   "source": [
    "## Test Accuracy"
   ]
  },
  {
   "cell_type": "code",
   "execution_count": 18,
   "metadata": {},
   "outputs": [
    {
     "data": {
      "text/plain": [
       "0.2716516800757217"
      ]
     },
     "execution_count": 18,
     "metadata": {},
     "output_type": "execute_result"
    }
   ],
   "source": [
    "y_test[0].sum() / len(y_test[0])"
   ]
  },
  {
   "cell_type": "code",
   "execution_count": null,
   "metadata": {},
   "outputs": [],
   "source": []
  }
 ],
 "metadata": {
  "kernelspec": {
   "display_name": "Python [conda env:root] *",
   "language": "python",
   "name": "conda-root-py"
  },
  "language_info": {
   "codemirror_mode": {
    "name": "ipython",
    "version": 3
   },
   "file_extension": ".py",
   "mimetype": "text/x-python",
   "name": "python",
   "nbconvert_exporter": "python",
   "pygments_lexer": "ipython3",
   "version": "3.7.4"
  },
  "latex_envs": {
   "LaTeX_envs_menu_present": true,
   "autoclose": false,
   "autocomplete": true,
   "bibliofile": "biblio.bib",
   "cite_by": "apalike",
   "current_citInitial": 1,
   "eqLabelWithNumbers": true,
   "eqNumInitial": 1,
   "hotkeys": {
    "equation": "Ctrl-E",
    "itemize": "Ctrl-I"
   },
   "labels_anchors": false,
   "latex_user_defs": false,
   "report_style_numbering": false,
   "user_envs_cfg": false
  },
  "toc": {
   "base_numbering": 1,
   "nav_menu": {},
   "number_sections": true,
   "sideBar": true,
   "skip_h1_title": false,
   "title_cell": "Table of Contents",
   "title_sidebar": "Contents",
   "toc_cell": false,
   "toc_position": {},
   "toc_section_display": true,
   "toc_window_display": true
  },
  "varInspector": {
   "cols": {
    "lenName": 16,
    "lenType": 16,
    "lenVar": 40
   },
   "kernels_config": {
    "python": {
     "delete_cmd_postfix": "",
     "delete_cmd_prefix": "del ",
     "library": "var_list.py",
     "varRefreshCmd": "print(var_dic_list())"
    },
    "r": {
     "delete_cmd_postfix": ") ",
     "delete_cmd_prefix": "rm(",
     "library": "var_list.r",
     "varRefreshCmd": "cat(var_dic_list()) "
    }
   },
   "types_to_exclude": [
    "module",
    "function",
    "builtin_function_or_method",
    "instance",
    "_Feature"
   ],
   "window_display": false
  }
 },
 "nbformat": 4,
 "nbformat_minor": 2
}
