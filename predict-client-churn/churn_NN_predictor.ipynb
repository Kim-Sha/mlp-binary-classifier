{
 "cells": [
  {
   "cell_type": "markdown",
   "metadata": {},
   "source": [
    "# NN Prediction of Telco Client Churn"
   ]
  },
  {
   "cell_type": "code",
   "execution_count": 1,
   "metadata": {
    "ExecuteTime": {
     "end_time": "2020-01-27T14:35:04.455498Z",
     "start_time": "2020-01-27T14:35:03.019411Z"
    }
   },
   "outputs": [],
   "source": [
    "import sys\n",
    "sys.path.append(\"..\")\n",
    "import numpy as np\n",
    "import pandas as pd\n",
    "from multilayer_perceptron import MultiLayerNN\n",
    "from sklearn import preprocessing\n",
    "from sklearn.metrics import accuracy_score, confusion_matrix, precision_score, recall_score"
   ]
  },
  {
   "cell_type": "markdown",
   "metadata": {},
   "source": [
    "# Data Prep"
   ]
  },
  {
   "cell_type": "code",
   "execution_count": 2,
   "metadata": {
    "ExecuteTime": {
     "end_time": "2020-01-27T14:35:04.736705Z",
     "start_time": "2020-01-27T14:35:04.459486Z"
    }
   },
   "outputs": [],
   "source": [
    "X_train = np.loadtxt(\"data-churn/x_train.csv\")\n",
    "y_train = np.loadtxt(\"data-churn/y_train.csv\")\n",
    "X_test = np.loadtxt(\"data-churn/x_test.csv\")\n",
    "y_test = np.loadtxt(\"data-churn/y_test.csv\")"
   ]
  },
  {
   "cell_type": "markdown",
   "metadata": {},
   "source": [
    "## Normalization"
   ]
  },
  {
   "cell_type": "code",
   "execution_count": 3,
   "metadata": {
    "ExecuteTime": {
     "end_time": "2020-01-27T14:35:04.757808Z",
     "start_time": "2020-01-27T14:35:04.739768Z"
    }
   },
   "outputs": [
    {
     "data": {
      "text/plain": [
       "StandardScaler(copy=True, with_mean=True, with_std=True)"
      ]
     },
     "execution_count": 3,
     "metadata": {},
     "output_type": "execute_result"
    }
   ],
   "source": [
    "scaler = preprocessing.StandardScaler()\n",
    "scaler.fit(X_train)"
   ]
  },
  {
   "cell_type": "code",
   "execution_count": 4,
   "metadata": {
    "ExecuteTime": {
     "end_time": "2020-01-27T14:35:04.772954Z",
     "start_time": "2020-01-27T14:35:04.762766Z"
    }
   },
   "outputs": [],
   "source": [
    "norm_X_train = scaler.transform(X_train)\n",
    "norm_X_test = scaler.transform(X_test)"
   ]
  },
  {
   "cell_type": "markdown",
   "metadata": {},
   "source": [
    "## Reshaping"
   ]
  },
  {
   "cell_type": "code",
   "execution_count": 5,
   "metadata": {
    "ExecuteTime": {
     "end_time": "2020-01-27T14:35:04.782634Z",
     "start_time": "2020-01-27T14:35:04.775915Z"
    }
   },
   "outputs": [],
   "source": [
    "norm_X_train = norm_X_train.T\n",
    "y_train = y_train.reshape(1, y_train.shape[0])\n",
    "norm_X_test = norm_X_test.T\n",
    "y_test = y_test.reshape(1, y_test.shape[0])"
   ]
  },
  {
   "cell_type": "code",
   "execution_count": 6,
   "metadata": {
    "ExecuteTime": {
     "end_time": "2020-01-27T14:35:04.816107Z",
     "start_time": "2020-01-27T14:35:04.799369Z"
    },
    "scrolled": true
   },
   "outputs": [
    {
     "name": "stdout",
     "output_type": "stream",
     "text": [
      "(39, 4930)\n",
      "(1, 4930)\n",
      "(39, 2113)\n",
      "(1, 2113)\n"
     ]
    }
   ],
   "source": [
    "print(norm_X_train.shape)\n",
    "print(y_train.shape)\n",
    "print(norm_X_test.shape)\n",
    "print(y_test.shape)"
   ]
  },
  {
   "cell_type": "markdown",
   "metadata": {},
   "source": [
    "# Binary Neural Network"
   ]
  },
  {
   "cell_type": "code",
   "execution_count": 7,
   "metadata": {
    "ExecuteTime": {
     "end_time": "2020-01-27T14:35:04.829803Z",
     "start_time": "2020-01-27T14:35:04.825134Z"
    }
   },
   "outputs": [],
   "source": [
    "churn_nn = MultiLayerNN(norm_X_train, y_train)"
   ]
  },
  {
   "cell_type": "code",
   "execution_count": 8,
   "metadata": {
    "ExecuteTime": {
     "end_time": "2020-01-27T14:50:48.111478Z",
     "start_time": "2020-01-27T14:35:04.852142Z"
    }
   },
   "outputs": [
    {
     "name": "stdout",
     "output_type": "stream",
     "text": [
      "Cost after epoch 0: 0.573560\n",
      "Learning rate after epoch 0: 0.001500\n",
      "Cost after epoch 1000: 0.299513\n",
      "Learning rate after epoch 1000: 0.001409\n",
      "Cost after epoch 2000: 0.288289\n",
      "Learning rate after epoch 2000: 0.001168\n",
      "Cost after epoch 3000: 0.279005\n",
      "Learning rate after epoch 3000: 0.000855\n",
      "Cost after epoch 4000: 0.273468\n",
      "Learning rate after epoch 4000: 0.000552\n",
      "Cost after epoch 5000: 0.269693\n",
      "Learning rate after epoch 5000: 0.000315\n",
      "Cost after epoch 6000: 0.267773\n",
      "Learning rate after epoch 6000: 0.000158\n",
      "Cost after epoch 7000: 0.267055\n",
      "Learning rate after epoch 7000: 0.000070\n"
     ]
    },
    {
     "data": {
      "image/png": "[encoded data removed]",
      "text/plain": [
       "<Figure size 432x288 with 1 Axes>"
      ]
     },
     "metadata": {
      "needs_background": "light"
     },
     "output_type": "display_data"
    }
   ],
   "source": [
    "churn_nn.fit_binary(layer_dimensions = [norm_X_train.shape[0], 20, 10, 5, 1],\n",
    "                    optimizer = \"adam\",\n",
    "                    learning_rate = 0.0015,\n",
    "                    lambd = 0.07,\n",
    "                    learning_decay_rate = 1.25e-7,\n",
    "                    minibatched = True,\n",
    "                    minibatch_size = 256,\n",
    "                    num_epochs = 8000)"
   ]
  },
  {
   "cell_type": "markdown",
   "metadata": {},
   "source": [
    "## Training Performance"
   ]
  },
  {
   "cell_type": "code",
   "execution_count": 9,
   "metadata": {
    "ExecuteTime": {
     "end_time": "2020-01-27T14:50:48.148227Z",
     "start_time": "2020-01-27T14:50:48.117549Z"
    }
   },
   "outputs": [
    {
     "name": "stdout",
     "output_type": "stream",
     "text": [
      "Accuracy: 0.8939148073022312\n"
     ]
    }
   ],
   "source": [
    "pred_train = churn_nn.predict_binary(norm_X_train, y_train)"
   ]
  },
  {
   "cell_type": "code",
   "execution_count": 10,
   "metadata": {
    "ExecuteTime": {
     "end_time": "2020-01-27T14:50:48.206562Z",
     "start_time": "2020-01-27T14:50:48.154270Z"
    }
   },
   "outputs": [
    {
     "name": "stdout",
     "output_type": "stream",
     "text": [
      "Precision: 0.7590604026845638\n",
      "Recall: 0.8733590733590734\n"
     ]
    }
   ],
   "source": [
    "print(\"Precision:\", precision_score(y_train[0], pred_train[0]))\n",
    "print(\"Recall:\", recall_score(y_train[0], pred_train[0]))"
   ]
  },
  {
   "cell_type": "code",
   "execution_count": 11,
   "metadata": {
    "ExecuteTime": {
     "end_time": "2020-01-27T14:50:48.610206Z",
     "start_time": "2020-01-27T14:50:48.231927Z"
    }
   },
   "outputs": [
    {
     "ename": "TypeError",
     "evalue": "confusion_matrix() got an unexpected keyword argument 'normalize'",
     "output_type": "error",
     "traceback": [
      "\u001b[0;31m---------------------------------------------------------------------------\u001b[0m",
      "\u001b[0;31mTypeError\u001b[0m                                 Traceback (most recent call last)",
      "\u001b[0;32m<ipython-input-11-869bca40c375>\u001b[0m in \u001b[0;36m<module>\u001b[0;34m\u001b[0m\n\u001b[0;32m----> 1\u001b[0;31m \u001b[0mtn\u001b[0m\u001b[0;34m,\u001b[0m \u001b[0mfp\u001b[0m\u001b[0;34m,\u001b[0m \u001b[0mfn\u001b[0m\u001b[0;34m,\u001b[0m \u001b[0mtp\u001b[0m \u001b[0;34m=\u001b[0m \u001b[0mconfusion_matrix\u001b[0m\u001b[0;34m(\u001b[0m\u001b[0my_train\u001b[0m\u001b[0;34m[\u001b[0m\u001b[0;36m0\u001b[0m\u001b[0;34m]\u001b[0m\u001b[0;34m,\u001b[0m \u001b[0mpred_train\u001b[0m\u001b[0;34m[\u001b[0m\u001b[0;36m0\u001b[0m\u001b[0;34m]\u001b[0m\u001b[0;34m,\u001b[0m \u001b[0mnormalize\u001b[0m \u001b[0;34m=\u001b[0m \u001b[0;34m\"all\"\u001b[0m\u001b[0;34m)\u001b[0m\u001b[0;34m.\u001b[0m\u001b[0mravel\u001b[0m\u001b[0;34m(\u001b[0m\u001b[0;34m)\u001b[0m\u001b[0;34m\u001b[0m\u001b[0;34m\u001b[0m\u001b[0m\n\u001b[0m\u001b[1;32m      2\u001b[0m \u001b[0mpd\u001b[0m\u001b[0;34m.\u001b[0m\u001b[0mDataFrame\u001b[0m\u001b[0;34m(\u001b[0m\u001b[0;34m[\u001b[0m\u001b[0;34m[\u001b[0m\u001b[0mtn\u001b[0m\u001b[0;34m,\u001b[0m \u001b[0mfp\u001b[0m\u001b[0;34m]\u001b[0m\u001b[0;34m,\u001b[0m \u001b[0;34m[\u001b[0m\u001b[0mfn\u001b[0m\u001b[0;34m,\u001b[0m \u001b[0mtp\u001b[0m\u001b[0;34m]\u001b[0m\u001b[0;34m]\u001b[0m\u001b[0;34m,\u001b[0m \u001b[0mindex\u001b[0m \u001b[0;34m=\u001b[0m \u001b[0;34m[\u001b[0m\u001b[0;34m\"label: 0\"\u001b[0m\u001b[0;34m,\u001b[0m \u001b[0;34m\"label: 1\"\u001b[0m\u001b[0;34m]\u001b[0m\u001b[0;34m,\u001b[0m \u001b[0mcolumns\u001b[0m \u001b[0;34m=\u001b[0m \u001b[0;34m[\u001b[0m\u001b[0;34m\"predicted: 0\"\u001b[0m\u001b[0;34m,\u001b[0m \u001b[0;34m\"predicted: 1\"\u001b[0m\u001b[0;34m]\u001b[0m\u001b[0;34m)\u001b[0m\u001b[0;34m\u001b[0m\u001b[0;34m\u001b[0m\u001b[0m\n",
      "\u001b[0;31mTypeError\u001b[0m: confusion_matrix() got an unexpected keyword argument 'normalize'"
     ]
    }
   ],
   "source": [
    "tn, fp, fn, tp = confusion_matrix(y_train[0], pred_train[0], normalize = \"all\").ravel()\n",
    "pd.DataFrame([[tn, fp], [fn, tp]], index = [\"label: 0\", \"label: 1\"], columns = [\"predicted: 0\", \"predicted: 1\"])"
   ]
  },
  {
   "cell_type": "markdown",
   "metadata": {},
   "source": [
    "## Test Performance"
   ]
  },
  {
   "cell_type": "code",
   "execution_count": null,
   "metadata": {
    "ExecuteTime": {
     "end_time": "2020-01-27T14:50:48.614256Z",
     "start_time": "2020-01-27T14:35:03.055Z"
    }
   },
   "outputs": [],
   "source": [
    "pred_test = churn_nn.predict_binary(norm_X_test, y_test)"
   ]
  },
  {
   "cell_type": "code",
   "execution_count": null,
   "metadata": {
    "ExecuteTime": {
     "end_time": "2020-01-27T14:50:48.617348Z",
     "start_time": "2020-01-27T14:35:03.060Z"
    }
   },
   "outputs": [],
   "source": [
    "print(\"Precision:\", precision_score(y_test[0], pred_test[0]))\n",
    "print(\"Recall:\", recall_score(y_test[0], pred_test[0]))"
   ]
  },
  {
   "cell_type": "code",
   "execution_count": null,
   "metadata": {
    "ExecuteTime": {
     "end_time": "2020-01-27T14:50:48.620554Z",
     "start_time": "2020-01-27T14:35:03.064Z"
    }
   },
   "outputs": [],
   "source": [
    "tn, fp, fn, tp = confusion_matrix(y_test[0], pred_test[0], normalize = \"all\").ravel()\n",
    "pd.DataFrame([[tn, fp], [fn, tp]], index = [\"label: 0\", \"label: 1\"], columns = [\"predicted: 0\", \"predicted: 1\"])"
   ]
  },
  {
   "cell_type": "code",
   "execution_count": null,
   "metadata": {
    "ExecuteTime": {
     "end_time": "2020-01-27T14:50:48.624016Z",
     "start_time": "2020-01-27T14:35:03.068Z"
    }
   },
   "outputs": [],
   "source": [
    "# pred_train = np.where(A4 > 0.5, 1, 0)\n",
    "# accuracy_score(cat_y_train[0], pred_train[0])"
   ]
  },
  {
   "cell_type": "code",
   "execution_count": null,
   "metadata": {},
   "outputs": [],
   "source": []
  }
 ],
 "metadata": {
  "kernelspec": {
   "display_name": "Python [conda env:root] *",
   "language": "python",
   "name": "conda-root-py"
  },
  "language_info": {
   "codemirror_mode": {
    "name": "ipython",
    "version": 3
   },
   "file_extension": ".py",
   "mimetype": "text/x-python",
   "name": "python",
   "nbconvert_exporter": "python",
   "pygments_lexer": "ipython3",
   "version": "3.7.4"
  },
  "latex_envs": {
   "LaTeX_envs_menu_present": true,
   "autoclose": false,
   "autocomplete": true,
   "bibliofile": "biblio.bib",
   "cite_by": "apalike",
   "current_citInitial": 1,
   "eqLabelWithNumbers": true,
   "eqNumInitial": 1,
   "hotkeys": {
    "equation": "Ctrl-E",
    "itemize": "Ctrl-I"
   },
   "labels_anchors": false,
   "latex_user_defs": false,
   "report_style_numbering": false,
   "user_envs_cfg": false
  },
  "toc": {
   "base_numbering": 1,
   "nav_menu": {},
   "number_sections": true,
   "sideBar": true,
   "skip_h1_title": false,
   "title_cell": "Table of Contents",
   "title_sidebar": "Contents",
   "toc_cell": false,
   "toc_position": {},
   "toc_section_display": true,
   "toc_window_display": false
  },
  "varInspector": {
   "cols": {
    "lenName": 16,
    "lenType": 16,
    "lenVar": 40
   },
   "kernels_config": {
    "python": {
     "delete_cmd_postfix": "",
     "delete_cmd_prefix": "del ",
     "library": "var_list.py",
     "varRefreshCmd": "print(var_dic_list())"
    },
    "r": {
     "delete_cmd_postfix": ") ",
     "delete_cmd_prefix": "rm(",
     "library": "var_list.r",
     "varRefreshCmd": "cat(var_dic_list()) "
    }
   },
   "types_to_exclude": [
    "module",
    "function",
    "builtin_function_or_method",
    "instance",
    "_Feature"
   ],
   "window_display": false
  }
 },
 "nbformat": 4,
 "nbformat_minor": 2
}
