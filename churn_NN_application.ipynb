{
 "cells": [
  {
   "cell_type": "code",
   "execution_count": 1,
   "metadata": {
    "ExecuteTime": {
     "end_time": "2020-01-10T06:45:11.317662Z",
     "start_time": "2020-01-10T06:45:10.292130Z"
    }
   },
   "outputs": [],
   "source": [
    "import time\n",
    "import numpy as np\n",
    "import pandas as pd\n",
    "from binary_nn import BinaryNN\n",
    "from sklearn import preprocessing\n",
    "from sklearn.metrics import accuracy_score, confusion_matrix, precision_score, recall_score\n",
    "\n",
    "np.random.seed(1)"
   ]
  },
  {
   "cell_type": "markdown",
   "metadata": {},
   "source": [
    "# Data Prep"
   ]
  },
  {
   "cell_type": "code",
   "execution_count": 2,
   "metadata": {
    "ExecuteTime": {
     "end_time": "2020-01-10T06:45:11.595946Z",
     "start_time": "2020-01-10T06:45:11.320790Z"
    }
   },
   "outputs": [],
   "source": [
    "X_train = np.loadtxt(\"churn-data/x_train.csv\")\n",
    "y_train = np.loadtxt(\"churn-data/y_train.csv\")\n",
    "X_test = np.loadtxt(\"churn-data/x_test.csv\")\n",
    "y_test = np.loadtxt(\"churn-data/y_test.csv\")"
   ]
  },
  {
   "cell_type": "markdown",
   "metadata": {},
   "source": [
    "## Normalization"
   ]
  },
  {
   "cell_type": "code",
   "execution_count": 3,
   "metadata": {
    "ExecuteTime": {
     "end_time": "2020-01-10T06:45:11.618706Z",
     "start_time": "2020-01-10T06:45:11.598991Z"
    }
   },
   "outputs": [
    {
     "data": {
      "text/plain": [
       "StandardScaler(copy=True, with_mean=True, with_std=True)"
      ]
     },
     "execution_count": 3,
     "metadata": {},
     "output_type": "execute_result"
    }
   ],
   "source": [
    "scaler = preprocessing.StandardScaler()\n",
    "scaler.fit(X_train)"
   ]
  },
  {
   "cell_type": "code",
   "execution_count": 4,
   "metadata": {
    "ExecuteTime": {
     "end_time": "2020-01-10T06:45:11.631877Z",
     "start_time": "2020-01-10T06:45:11.621262Z"
    }
   },
   "outputs": [],
   "source": [
    "norm_X_train = scaler.transform(X_train)\n",
    "norm_X_test = scaler.transform(X_test)"
   ]
  },
  {
   "cell_type": "markdown",
   "metadata": {},
   "source": [
    "## Reshaping"
   ]
  },
  {
   "cell_type": "code",
   "execution_count": 5,
   "metadata": {
    "ExecuteTime": {
     "end_time": "2020-01-10T06:45:11.646619Z",
     "start_time": "2020-01-10T06:45:11.634903Z"
    }
   },
   "outputs": [],
   "source": [
    "norm_X_train = norm_X_train.T\n",
    "y_train = y_train.reshape(1, y_train.shape[0])\n",
    "norm_X_test = norm_X_test.T\n",
    "y_test = y_test.reshape(1, y_test.shape[0])"
   ]
  },
  {
   "cell_type": "code",
   "execution_count": 6,
   "metadata": {
    "ExecuteTime": {
     "end_time": "2020-01-10T06:45:11.667325Z",
     "start_time": "2020-01-10T06:45:11.653020Z"
    },
    "scrolled": true
   },
   "outputs": [
    {
     "name": "stdout",
     "output_type": "stream",
     "text": [
      "(39, 4930)\n",
      "(1, 4930)\n",
      "(39, 2113)\n",
      "(1, 2113)\n"
     ]
    }
   ],
   "source": [
    "print(norm_X_train.shape)\n",
    "print(y_train.shape)\n",
    "print(norm_X_test.shape)\n",
    "print(y_test.shape)"
   ]
  },
  {
   "cell_type": "markdown",
   "metadata": {},
   "source": [
    "# Binary Neural Network"
   ]
  },
  {
   "cell_type": "code",
   "execution_count": 7,
   "metadata": {
    "ExecuteTime": {
     "end_time": "2020-01-10T06:45:11.688565Z",
     "start_time": "2020-01-10T06:45:11.684284Z"
    }
   },
   "outputs": [],
   "source": [
    "churn_nn = BinaryNN(norm_X_train, y_train)"
   ]
  },
  {
   "cell_type": "code",
   "execution_count": 8,
   "metadata": {
    "ExecuteTime": {
     "end_time": "2020-01-10T06:46:30.365313Z",
     "start_time": "2020-01-10T06:45:11.695763Z"
    },
    "scrolled": false
   },
   "outputs": [
    {
     "data": {
      "image/png": "[encoded data removed]",
      "text/plain": [
       "<Figure size 432x288 with 1 Axes>"
      ]
     },
     "metadata": {
      "needs_background": "light"
     },
     "output_type": "display_data"
    }
   ],
   "source": [
    "churn_nn.L_layer_model(layer_dimensions = [39, 30, 25, 20, 10, 5, 1],\n",
    "                       print_cost = False,\n",
    "                       num_iterations = 7500,\n",
    "                       learning_rate = 0.0125)"
   ]
  },
  {
   "cell_type": "markdown",
   "metadata": {},
   "source": [
    "## Training Performance"
   ]
  },
  {
   "cell_type": "code",
   "execution_count": 9,
   "metadata": {
    "ExecuteTime": {
     "end_time": "2020-01-10T06:46:30.391119Z",
     "start_time": "2020-01-10T06:46:30.368952Z"
    }
   },
   "outputs": [
    {
     "name": "stdout",
     "output_type": "stream",
     "text": [
      "Accuracy: 0.8190669371196755\n"
     ]
    }
   ],
   "source": [
    "pred_train = churn_nn.predict(norm_X_train, y_train)"
   ]
  },
  {
   "cell_type": "code",
   "execution_count": 10,
   "metadata": {
    "ExecuteTime": {
     "end_time": "2020-01-10T06:46:30.410438Z",
     "start_time": "2020-01-10T06:46:30.393778Z"
    }
   },
   "outputs": [
    {
     "name": "stdout",
     "output_type": "stream",
     "text": [
      "Precision: 0.6899151743638078\n",
      "Recall: 0.5652509652509653\n"
     ]
    }
   ],
   "source": [
    "print(\"Precision:\", precision_score(y_train[0], pred_train[0]))\n",
    "print(\"Recall:\", recall_score(y_train[0], pred_train[0]))"
   ]
  },
  {
   "cell_type": "code",
   "execution_count": 11,
   "metadata": {
    "ExecuteTime": {
     "end_time": "2020-01-10T06:46:30.434000Z",
     "start_time": "2020-01-10T06:46:30.413141Z"
    }
   },
   "outputs": [
    {
     "data": {
      "text/html": [
       "<div>\n",
       "<style scoped>\n",
       "    .dataframe tbody tr th:only-of-type {\n",
       "        vertical-align: middle;\n",
       "    }\n",
       "\n",
       "    .dataframe tbody tr th {\n",
       "        vertical-align: top;\n",
       "    }\n",
       "\n",
       "    .dataframe thead th {\n",
       "        text-align: right;\n",
       "    }\n",
       "</style>\n",
       "<table border=\"1\" class=\"dataframe\">\n",
       "  <thead>\n",
       "    <tr style=\"text-align: right;\">\n",
       "      <th></th>\n",
       "      <th>predicted: 0</th>\n",
       "      <th>predicted: 1</th>\n",
       "    </tr>\n",
       "  </thead>\n",
       "  <tbody>\n",
       "    <tr>\n",
       "      <th>label: 0</th>\n",
       "      <td>0.670588</td>\n",
       "      <td>0.066734</td>\n",
       "    </tr>\n",
       "    <tr>\n",
       "      <th>label: 1</th>\n",
       "      <td>0.114199</td>\n",
       "      <td>0.148479</td>\n",
       "    </tr>\n",
       "  </tbody>\n",
       "</table>\n",
       "</div>"
      ],
      "text/plain": [
       "          predicted: 0  predicted: 1\n",
       "label: 0      0.670588      0.066734\n",
       "label: 1      0.114199      0.148479"
      ]
     },
     "execution_count": 11,
     "metadata": {},
     "output_type": "execute_result"
    }
   ],
   "source": [
    "tn, fp, fn, tp = confusion_matrix(y_train[0], pred_train[0], normalize = \"all\").ravel()\n",
    "pd.DataFrame([[tn, fp], [fn, tp]], index = [\"label: 0\", \"label: 1\"], columns = [\"predicted: 0\", \"predicted: 1\"])"
   ]
  },
  {
   "cell_type": "markdown",
   "metadata": {},
   "source": [
    "## Test Performance"
   ]
  },
  {
   "cell_type": "code",
   "execution_count": 12,
   "metadata": {
    "ExecuteTime": {
     "end_time": "2020-01-10T06:46:30.451905Z",
     "start_time": "2020-01-10T06:46:30.437583Z"
    }
   },
   "outputs": [
    {
     "name": "stdout",
     "output_type": "stream",
     "text": [
      "Accuracy: 0.8050165641268339\n"
     ]
    }
   ],
   "source": [
    "pred_test = churn_nn.predict(norm_X_test, y_test)"
   ]
  },
  {
   "cell_type": "code",
   "execution_count": 13,
   "metadata": {
    "ExecuteTime": {
     "end_time": "2020-01-10T06:46:30.468695Z",
     "start_time": "2020-01-10T06:46:30.455148Z"
    }
   },
   "outputs": [
    {
     "name": "stdout",
     "output_type": "stream",
     "text": [
      "Precision: 0.6694560669456067\n",
      "Recall: 0.5574912891986062\n"
     ]
    }
   ],
   "source": [
    "print(\"Precision:\", precision_score(y_test[0], pred_test[0]))\n",
    "print(\"Recall:\", recall_score(y_test[0], pred_test[0]))"
   ]
  },
  {
   "cell_type": "code",
   "execution_count": 14,
   "metadata": {
    "ExecuteTime": {
     "end_time": "2020-01-10T06:46:30.487560Z",
     "start_time": "2020-01-10T06:46:30.471969Z"
    }
   },
   "outputs": [
    {
     "data": {
      "text/html": [
       "<div>\n",
       "<style scoped>\n",
       "    .dataframe tbody tr th:only-of-type {\n",
       "        vertical-align: middle;\n",
       "    }\n",
       "\n",
       "    .dataframe tbody tr th {\n",
       "        vertical-align: top;\n",
       "    }\n",
       "\n",
       "    .dataframe thead th {\n",
       "        text-align: right;\n",
       "    }\n",
       "</style>\n",
       "<table border=\"1\" class=\"dataframe\">\n",
       "  <thead>\n",
       "    <tr style=\"text-align: right;\">\n",
       "      <th></th>\n",
       "      <th>predicted: 0</th>\n",
       "      <th>predicted: 1</th>\n",
       "    </tr>\n",
       "  </thead>\n",
       "  <tbody>\n",
       "    <tr>\n",
       "      <th>label: 0</th>\n",
       "      <td>0.653573</td>\n",
       "      <td>0.074775</td>\n",
       "    </tr>\n",
       "    <tr>\n",
       "      <th>label: 1</th>\n",
       "      <td>0.120208</td>\n",
       "      <td>0.151443</td>\n",
       "    </tr>\n",
       "  </tbody>\n",
       "</table>\n",
       "</div>"
      ],
      "text/plain": [
       "          predicted: 0  predicted: 1\n",
       "label: 0      0.653573      0.074775\n",
       "label: 1      0.120208      0.151443"
      ]
     },
     "execution_count": 14,
     "metadata": {},
     "output_type": "execute_result"
    }
   ],
   "source": [
    "tn, fp, fn, tp = confusion_matrix(y_test[0], pred_test[0], normalize = \"all\").ravel()\n",
    "pd.DataFrame([[tn, fp], [fn, tp]], index = [\"label: 0\", \"label: 1\"], columns = [\"predicted: 0\", \"predicted: 1\"])"
   ]
  },
  {
   "cell_type": "markdown",
   "metadata": {},
   "source": [
    "# Cat Classifier"
   ]
  },
  {
   "cell_type": "code",
   "execution_count": 15,
   "metadata": {
    "ExecuteTime": {
     "end_time": "2020-01-10T06:46:33.572434Z",
     "start_time": "2020-01-10T06:46:30.491945Z"
    }
   },
   "outputs": [],
   "source": [
    "cat_X_train = np.loadtxt(\"cat-data/cat_train_x.csv\")\n",
    "cat_y_train = np.loadtxt(\"cat-data/cat_train_y.csv\")\n",
    "cat_X_test = np.loadtxt(\"cat-data/cat_test_x.csv\")\n",
    "cat_y_test = np.loadtxt(\"cat-data/cat_test_y.csv\")"
   ]
  },
  {
   "cell_type": "code",
   "execution_count": 16,
   "metadata": {
    "ExecuteTime": {
     "end_time": "2020-01-10T06:46:33.586802Z",
     "start_time": "2020-01-10T06:46:33.574739Z"
    }
   },
   "outputs": [],
   "source": [
    "cat_y_train = cat_y_train.reshape(1, cat_y_train.shape[0])\n",
    "cat_y_test = cat_y_test.reshape(1, cat_y_test.shape[0])"
   ]
  },
  {
   "cell_type": "code",
   "execution_count": 17,
   "metadata": {
    "ExecuteTime": {
     "end_time": "2020-01-10T06:46:33.596592Z",
     "start_time": "2020-01-10T06:46:33.589470Z"
    }
   },
   "outputs": [
    {
     "name": "stdout",
     "output_type": "stream",
     "text": [
      "(12288, 209)\n",
      "(1, 209)\n",
      "(12288, 50)\n",
      "(1, 50)\n"
     ]
    }
   ],
   "source": [
    "print(cat_X_train.shape)\n",
    "print(cat_y_train.shape)\n",
    "print(cat_X_test.shape)\n",
    "print(cat_y_test.shape)"
   ]
  },
  {
   "cell_type": "code",
   "execution_count": 18,
   "metadata": {
    "ExecuteTime": {
     "end_time": "2020-01-10T06:46:33.603447Z",
     "start_time": "2020-01-10T06:46:33.599452Z"
    }
   },
   "outputs": [],
   "source": [
    "cat_layers_dims = [12288, 20, 7, 5, 1]"
   ]
  },
  {
   "cell_type": "code",
   "execution_count": 19,
   "metadata": {
    "ExecuteTime": {
     "end_time": "2020-01-10T06:46:33.613080Z",
     "start_time": "2020-01-10T06:46:33.607177Z"
    }
   },
   "outputs": [],
   "source": [
    "cat_nn = BinaryNN(X = cat_X_train, Y = cat_y_train)"
   ]
  },
  {
   "cell_type": "code",
   "execution_count": 20,
   "metadata": {
    "ExecuteTime": {
     "end_time": "2020-01-10T06:47:10.720529Z",
     "start_time": "2020-01-10T06:46:33.617218Z"
    }
   },
   "outputs": [
    {
     "name": "stdout",
     "output_type": "stream",
     "text": [
      "Cost after iteration 0: 0.771749\n",
      "Cost after iteration 100: 0.672053\n",
      "Cost after iteration 200: 0.648263\n",
      "Cost after iteration 300: 0.611507\n",
      "Cost after iteration 400: 0.567047\n",
      "Cost after iteration 500: 0.540138\n",
      "Cost after iteration 600: 0.527930\n",
      "Cost after iteration 700: 0.465477\n",
      "Cost after iteration 800: 0.369126\n",
      "Cost after iteration 900: 0.391747\n",
      "Cost after iteration 1000: 0.315187\n",
      "Cost after iteration 1100: 0.272700\n",
      "Cost after iteration 1200: 0.237419\n",
      "Cost after iteration 1300: 0.199601\n",
      "Cost after iteration 1400: 0.189263\n",
      "Cost after iteration 1500: 0.161189\n",
      "Cost after iteration 1600: 0.148214\n",
      "Cost after iteration 1700: 0.137775\n",
      "Cost after iteration 1800: 0.129740\n",
      "Cost after iteration 1900: 0.121225\n",
      "Cost after iteration 2000: 0.113821\n",
      "Cost after iteration 2100: 0.107839\n",
      "Cost after iteration 2200: 0.102855\n",
      "Cost after iteration 2300: 0.100897\n",
      "Cost after iteration 2400: 0.092878\n"
     ]
    },
    {
     "data": {
      "image/png": "[encoded data removed]",
      "text/plain": [
       "<Figure size 432x288 with 1 Axes>"
      ]
     },
     "metadata": {
      "needs_background": "light"
     },
     "output_type": "display_data"
    }
   ],
   "source": [
    "cat_nn.L_layer_model(layer_dimensions = cat_layers_dims, print_cost = True)"
   ]
  },
  {
   "cell_type": "code",
   "execution_count": 21,
   "metadata": {
    "ExecuteTime": {
     "end_time": "2020-01-10T06:47:10.739222Z",
     "start_time": "2020-01-10T06:47:10.723672Z"
    }
   },
   "outputs": [
    {
     "name": "stdout",
     "output_type": "stream",
     "text": [
      "Accuracy: 0.9856459330143539\n"
     ]
    }
   ],
   "source": [
    "cat_pred_train = cat_nn.predict(X = cat_X_train, y = cat_y_train)"
   ]
  },
  {
   "cell_type": "code",
   "execution_count": 22,
   "metadata": {
    "ExecuteTime": {
     "end_time": "2020-01-10T06:47:10.759466Z",
     "start_time": "2020-01-10T06:47:10.749533Z"
    }
   },
   "outputs": [
    {
     "name": "stdout",
     "output_type": "stream",
     "text": [
      "Precision: 1.0\n",
      "Recall: 0.9583333333333334\n"
     ]
    }
   ],
   "source": [
    "print(\"Precision:\", precision_score(cat_y_train[0], cat_pred_train[0]))\n",
    "print(\"Recall:\", recall_score(cat_y_train[0], cat_pred_train[0]))"
   ]
  },
  {
   "cell_type": "code",
   "execution_count": 23,
   "metadata": {
    "ExecuteTime": {
     "end_time": "2020-01-10T06:47:10.776063Z",
     "start_time": "2020-01-10T06:47:10.762916Z"
    }
   },
   "outputs": [
    {
     "data": {
      "text/html": [
       "<div>\n",
       "<style scoped>\n",
       "    .dataframe tbody tr th:only-of-type {\n",
       "        vertical-align: middle;\n",
       "    }\n",
       "\n",
       "    .dataframe tbody tr th {\n",
       "        vertical-align: top;\n",
       "    }\n",
       "\n",
       "    .dataframe thead th {\n",
       "        text-align: right;\n",
       "    }\n",
       "</style>\n",
       "<table border=\"1\" class=\"dataframe\">\n",
       "  <thead>\n",
       "    <tr style=\"text-align: right;\">\n",
       "      <th></th>\n",
       "      <th>predicted: 0</th>\n",
       "      <th>predicted: 1</th>\n",
       "    </tr>\n",
       "  </thead>\n",
       "  <tbody>\n",
       "    <tr>\n",
       "      <th>label: 0</th>\n",
       "      <td>0.655502</td>\n",
       "      <td>0.000000</td>\n",
       "    </tr>\n",
       "    <tr>\n",
       "      <th>label: 1</th>\n",
       "      <td>0.014354</td>\n",
       "      <td>0.330144</td>\n",
       "    </tr>\n",
       "  </tbody>\n",
       "</table>\n",
       "</div>"
      ],
      "text/plain": [
       "          predicted: 0  predicted: 1\n",
       "label: 0      0.655502      0.000000\n",
       "label: 1      0.014354      0.330144"
      ]
     },
     "execution_count": 23,
     "metadata": {},
     "output_type": "execute_result"
    }
   ],
   "source": [
    "tn, fp, fn, tp = confusion_matrix(cat_y_train[0], cat_pred_train[0], normalize = \"all\").ravel()\n",
    "pd.DataFrame([[tn, fp], [fn, tp]], index = [\"label: 0\", \"label: 1\"], columns = [\"predicted: 0\", \"predicted: 1\"])"
   ]
  },
  {
   "cell_type": "code",
   "execution_count": 24,
   "metadata": {
    "ExecuteTime": {
     "end_time": "2020-01-10T06:47:10.789397Z",
     "start_time": "2020-01-10T06:47:10.779194Z"
    }
   },
   "outputs": [
    {
     "name": "stdout",
     "output_type": "stream",
     "text": [
      "Accuracy: 0.8\n"
     ]
    }
   ],
   "source": [
    "cat_pred_test = cat_nn.predict(X = cat_X_test, y = cat_y_test)"
   ]
  },
  {
   "cell_type": "code",
   "execution_count": 25,
   "metadata": {
    "ExecuteTime": {
     "end_time": "2020-01-10T06:47:10.803247Z",
     "start_time": "2020-01-10T06:47:10.793117Z"
    }
   },
   "outputs": [
    {
     "name": "stdout",
     "output_type": "stream",
     "text": [
      "Precision: 0.8108108108108109\n",
      "Recall: 0.9090909090909091\n"
     ]
    }
   ],
   "source": [
    "print(\"Precision:\", precision_score(cat_y_test[0], cat_pred_test[0]))\n",
    "print(\"Recall:\", recall_score(cat_y_test[0], cat_pred_test[0]))"
   ]
  },
  {
   "cell_type": "code",
   "execution_count": 26,
   "metadata": {
    "ExecuteTime": {
     "end_time": "2020-01-10T06:47:10.820888Z",
     "start_time": "2020-01-10T06:47:10.806891Z"
    }
   },
   "outputs": [
    {
     "data": {
      "text/html": [
       "<div>\n",
       "<style scoped>\n",
       "    .dataframe tbody tr th:only-of-type {\n",
       "        vertical-align: middle;\n",
       "    }\n",
       "\n",
       "    .dataframe tbody tr th {\n",
       "        vertical-align: top;\n",
       "    }\n",
       "\n",
       "    .dataframe thead th {\n",
       "        text-align: right;\n",
       "    }\n",
       "</style>\n",
       "<table border=\"1\" class=\"dataframe\">\n",
       "  <thead>\n",
       "    <tr style=\"text-align: right;\">\n",
       "      <th></th>\n",
       "      <th>predicted: 0</th>\n",
       "      <th>predicted: 1</th>\n",
       "    </tr>\n",
       "  </thead>\n",
       "  <tbody>\n",
       "    <tr>\n",
       "      <th>label: 0</th>\n",
       "      <td>0.20</td>\n",
       "      <td>0.14</td>\n",
       "    </tr>\n",
       "    <tr>\n",
       "      <th>label: 1</th>\n",
       "      <td>0.06</td>\n",
       "      <td>0.60</td>\n",
       "    </tr>\n",
       "  </tbody>\n",
       "</table>\n",
       "</div>"
      ],
      "text/plain": [
       "          predicted: 0  predicted: 1\n",
       "label: 0          0.20          0.14\n",
       "label: 1          0.06          0.60"
      ]
     },
     "execution_count": 26,
     "metadata": {},
     "output_type": "execute_result"
    }
   ],
   "source": [
    "tn, fp, fn, tp = confusion_matrix(cat_y_test[0], cat_pred_test[0], normalize = \"all\").ravel()\n",
    "pd.DataFrame([[tn, fp], [fn, tp]], index = [\"label: 0\", \"label: 1\"], columns = [\"predicted: 0\", \"predicted: 1\"])"
   ]
  },
  {
   "cell_type": "code",
   "execution_count": 27,
   "metadata": {
    "ExecuteTime": {
     "end_time": "2020-01-10T06:47:10.828967Z",
     "start_time": "2020-01-10T06:47:10.824332Z"
    }
   },
   "outputs": [],
   "source": [
    "# pred_train = np.where(A4 > 0.5, 1, 0)\n",
    "# accuracy_score(cat_y_train[0], pred_train[0])"
   ]
  },
  {
   "cell_type": "code",
   "execution_count": null,
   "metadata": {},
   "outputs": [],
   "source": []
  }
 ],
 "metadata": {
  "kernelspec": {
   "display_name": "Python [conda env:root] *",
   "language": "python",
   "name": "conda-root-py"
  },
  "language_info": {
   "codemirror_mode": {
    "name": "ipython",
    "version": 3
   },
   "file_extension": ".py",
   "mimetype": "text/x-python",
   "name": "python",
   "nbconvert_exporter": "python",
   "pygments_lexer": "ipython3",
   "version": "3.7.3"
  },
  "latex_envs": {
   "LaTeX_envs_menu_present": true,
   "autoclose": false,
   "autocomplete": true,
   "bibliofile": "biblio.bib",
   "cite_by": "apalike",
   "current_citInitial": 1,
   "eqLabelWithNumbers": true,
   "eqNumInitial": 1,
   "hotkeys": {
    "equation": "Ctrl-E",
    "itemize": "Ctrl-I"
   },
   "labels_anchors": false,
   "latex_user_defs": false,
   "report_style_numbering": false,
   "user_envs_cfg": false
  },
  "toc": {
   "base_numbering": 1,
   "nav_menu": {},
   "number_sections": true,
   "sideBar": true,
   "skip_h1_title": false,
   "title_cell": "Table of Contents",
   "title_sidebar": "Contents",
   "toc_cell": false,
   "toc_position": {},
   "toc_section_display": true,
   "toc_window_display": true
  },
  "varInspector": {
   "cols": {
    "lenName": 16,
    "lenType": 16,
    "lenVar": 40
   },
   "kernels_config": {
    "python": {
     "delete_cmd_postfix": "",
     "delete_cmd_prefix": "del ",
     "library": "var_list.py",
     "varRefreshCmd": "print(var_dic_list())"
    },
    "r": {
     "delete_cmd_postfix": ") ",
     "delete_cmd_prefix": "rm(",
     "library": "var_list.r",
     "varRefreshCmd": "cat(var_dic_list()) "
    }
   },
   "types_to_exclude": [
    "module",
    "function",
    "builtin_function_or_method",
    "instance",
    "_Feature"
   ],
   "window_display": false
  }
 },
 "nbformat": 4,
 "nbformat_minor": 2
}
