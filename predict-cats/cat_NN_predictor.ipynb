{
 "cells": [
  {
   "cell_type": "markdown",
   "metadata": {},
   "source": [
    "# NN Cat Classification"
   ]
  },
  {
   "cell_type": "code",
   "execution_count": 1,
   "metadata": {
    "ExecuteTime": {
     "end_time": "2020-01-28T07:07:00.717690Z",
     "start_time": "2020-01-28T07:06:58.025021Z"
    }
   },
   "outputs": [],
   "source": [
    "import sys\n",
    "sys.path.append(\"..\")\n",
    "import numpy as np\n",
    "import pandas as pd\n",
    "from multilayer_perceptron import MultiLayerNN\n",
    "from sklearn import preprocessing\n",
    "from sklearn.metrics import accuracy_score, confusion_matrix, precision_score, recall_score\n",
    "import matplotlib.pyplot as plt"
   ]
  },
  {
   "cell_type": "markdown",
   "metadata": {},
   "source": [
    "# Data Prep"
   ]
  },
  {
   "cell_type": "code",
   "execution_count": 2,
   "metadata": {
    "ExecuteTime": {
     "end_time": "2020-01-28T07:07:04.262752Z",
     "start_time": "2020-01-28T07:07:00.720173Z"
    }
   },
   "outputs": [],
   "source": [
    "X_train = np.loadtxt(\"data-cat/x_train.csv\")\n",
    "y_train = np.loadtxt(\"data-cat/y_train.csv\")\n",
    "X_test = np.loadtxt(\"data-cat/x_test.csv\")\n",
    "y_test = np.loadtxt(\"data-cat/y_test.csv\")"
   ]
  },
  {
   "cell_type": "code",
   "execution_count": 3,
   "metadata": {
    "ExecuteTime": {
     "end_time": "2020-01-28T07:07:04.282524Z",
     "start_time": "2020-01-28T07:07:04.264963Z"
    }
   },
   "outputs": [],
   "source": [
    "y_train = y_train.reshape(1, y_train.shape[0])\n",
    "y_test = y_test.reshape(1, y_test.shape[0])"
   ]
  },
  {
   "cell_type": "code",
   "execution_count": 4,
   "metadata": {
    "ExecuteTime": {
     "end_time": "2020-01-28T07:07:04.301628Z",
     "start_time": "2020-01-28T07:07:04.287161Z"
    }
   },
   "outputs": [
    {
     "name": "stdout",
     "output_type": "stream",
     "text": [
      "(12288, 209)\n",
      "(1, 209)\n",
      "(12288, 50)\n",
      "(1, 50)\n"
     ]
    }
   ],
   "source": [
    "print(X_train.shape)\n",
    "print(y_train.shape)\n",
    "print(X_test.shape)\n",
    "print(y_test.shape)"
   ]
  },
  {
   "cell_type": "markdown",
   "metadata": {},
   "source": [
    "# Binary Neural Net"
   ]
  },
  {
   "cell_type": "code",
   "execution_count": 5,
   "metadata": {
    "ExecuteTime": {
     "end_time": "2020-01-28T07:07:04.326201Z",
     "start_time": "2020-01-28T07:07:04.317291Z"
    }
   },
   "outputs": [],
   "source": [
    "cat_nn = MultiLayerNN(X = X_train, Y = y_train)"
   ]
  },
  {
   "cell_type": "markdown",
   "metadata": {},
   "source": [
    "## Hyperparameter Search\n",
    "\n",
    "Let's focus on learning_rate and L2 regularization parameter lambd for now"
   ]
  },
  {
   "cell_type": "code",
   "execution_count": 6,
   "metadata": {
    "ExecuteTime": {
     "end_time": "2020-01-28T07:07:04.338736Z",
     "start_time": "2020-01-28T07:07:04.332627Z"
    }
   },
   "outputs": [],
   "source": [
    "num_searches = 20\n",
    "learning_rate_bounds = [0.00001, 0.001]\n",
    "lambd_bounds = [0.1, 0.9]\n",
    "learning_rate_search = np.random.uniform(learning_rate_bounds[0], learning_rate_bounds[1], num_searches)\n",
    "lambd_search = np.random.uniform(lambd_bounds[0], lambd_bounds[1], num_searches)"
   ]
  },
  {
   "cell_type": "code",
   "execution_count": 7,
   "metadata": {
    "ExecuteTime": {
     "end_time": "2020-01-28T07:07:04.946927Z",
     "start_time": "2020-01-28T07:07:04.341812Z"
    }
   },
   "outputs": [
    {
     "data": {
      "text/plain": [
       "Text(0, 0.5, 'L2 Regularization Parameter ($\\\\lambda$)')"
      ]
     },
     "execution_count": 7,
     "metadata": {},
     "output_type": "execute_result"
    },
    {
     "data": {
      "image/png": "[encoded data removed]",
      "text/plain": [
       "<Figure size 432x288 with 1 Axes>"
      ]
     },
     "metadata": {
      "needs_background": "light"
     },
     "output_type": "display_data"
    }
   ],
   "source": [
    "plt.scatter(learning_rate_search, lambd_search)\n",
    "plt.xlim(learning_rate_bounds)\n",
    "plt.ylim(lambd_bounds)\n",
    "plt.xlabel(\"Learning Rate\")\n",
    "plt.ylabel(\"L2 Regularization Parameter ($\\lambda$)\")"
   ]
  },
  {
   "cell_type": "code",
   "execution_count": null,
   "metadata": {
    "ExecuteTime": {
     "start_time": "2020-01-28T07:06:57.988Z"
    }
   },
   "outputs": [],
   "source": [
    "search_list = []\n",
    "\n",
    "for i in range(num_searches):\n",
    "    \n",
    "    search_dict = {}\n",
    "    search_dict[\"learning_rate\"] = learning_rate_search[i]\n",
    "    search_dict[\"lambd\"] = lambd_search[i]\n",
    "    \n",
    "    cat_nn.fit_binary(layer_dimensions = [X_train.shape[0], 20, 7, 5, 1],\n",
    "                      learning_rate = learning_rate_search[i],\n",
    "                      learning_decay_rate = 1e-7,\n",
    "                      lambd = lambd_search[i],\n",
    "                      minibatched = True,\n",
    "                      minibatch_size = 64,\n",
    "                      optimizer = \"adam\",\n",
    "                      num_epochs = 3000,\n",
    "                      print_cost = False)\n",
    "    \n",
    "    print(\"TRAINING:\")\n",
    "    pred_train, acc_train = cat_nn.predict_binary(X = X_train, y = y_train)\n",
    "    search_dict[\"train_accuracy\"] = acc_train\n",
    "    \n",
    "    print(\"TESTING:\")\n",
    "    pred_test, acc_test = cat_nn.predict_binary(X = X_test, y = y_test)\n",
    "    search_dict[\"test_accuracy\"] = acc_test\n",
    "    \n",
    "    search_list.append(search_dict)\n",
    "    \n"
   ]
  },
  {
   "cell_type": "code",
   "execution_count": null,
   "metadata": {
    "ExecuteTime": {
     "start_time": "2020-01-28T07:06:57.992Z"
    }
   },
   "outputs": [],
   "source": [
    "peak_accuracy = np.max(list(x[\"test_accuracy\"] for x in search_list))\n",
    "opt_learning_rate = 0\n",
    "opt_lambd = 0\n",
    "for d in search_list:\n",
    "    if d[\"test_accuracy\"] == peak_accuracy:\n",
    "        opt_learning_rate = d[\"learning_rate\"]\n",
    "        opt_lambd = d[\"lambd\"]\n",
    "print(\"Optimal Learning Rate:\", opt_learning_rate)\n",
    "print(\"Optimal Lambda:\", opt_lambd)"
   ]
  },
  {
   "cell_type": "markdown",
   "metadata": {},
   "source": [
    "## Final Run"
   ]
  },
  {
   "cell_type": "code",
   "execution_count": null,
   "metadata": {
    "ExecuteTime": {
     "start_time": "2020-01-28T07:06:57.995Z"
    }
   },
   "outputs": [],
   "source": [
    "cat_nn.fit_binary(layer_dimensions = [X_train.shape[0], 20, 7, 5, 1],\n",
    "                  learning_rate = opt_learning_rate,\n",
    "                  learning_decay_rate = 1e-7,\n",
    "                  lambd = opt_lambd,\n",
    "                  minibatched = True,\n",
    "                  minibatch_size = 64,\n",
    "                  optimizer = \"adam\",\n",
    "                  num_epochs = 3000,\n",
    "                  print_cost = True)"
   ]
  },
  {
   "cell_type": "markdown",
   "metadata": {},
   "source": [
    "### Training Set Performance"
   ]
  },
  {
   "cell_type": "code",
   "execution_count": null,
   "metadata": {
    "ExecuteTime": {
     "start_time": "2020-01-28T07:06:57.999Z"
    }
   },
   "outputs": [],
   "source": [
    "pred_train, acc_train = cat_nn.predict_binary(X = X_train, y = y_train)"
   ]
  },
  {
   "cell_type": "code",
   "execution_count": null,
   "metadata": {
    "ExecuteTime": {
     "start_time": "2020-01-28T07:06:58.003Z"
    }
   },
   "outputs": [],
   "source": [
    "print(\"Precision:\", precision_score(y_train[0], pred_train[0]))\n",
    "print(\"Recall:\", recall_score(y_train[0], pred_train[0]))"
   ]
  },
  {
   "cell_type": "code",
   "execution_count": null,
   "metadata": {
    "ExecuteTime": {
     "start_time": "2020-01-28T07:06:58.007Z"
    }
   },
   "outputs": [],
   "source": [
    "tn, fp, fn, tp = confusion_matrix(y_train[0], pred_train[0]).ravel()\n",
    "pd.DataFrame([[tn, fp], [fn, tp]], index = [\"label: 0\", \"label: 1\"], columns = [\"predicted: 0\", \"predicted: 1\"])"
   ]
  },
  {
   "cell_type": "markdown",
   "metadata": {},
   "source": [
    "### Test Set Performance"
   ]
  },
  {
   "cell_type": "code",
   "execution_count": null,
   "metadata": {
    "ExecuteTime": {
     "start_time": "2020-01-28T07:06:58.011Z"
    }
   },
   "outputs": [],
   "source": [
    "pred_test, acc_test = cat_nn.predict_binary(X = X_test, y = y_test)"
   ]
  },
  {
   "cell_type": "code",
   "execution_count": null,
   "metadata": {
    "ExecuteTime": {
     "start_time": "2020-01-28T07:06:58.013Z"
    }
   },
   "outputs": [],
   "source": [
    "print(\"Precision:\", precision_score(y_test[0], pred_test[0]))\n",
    "print(\"Recall:\", recall_score(y_test[0], pred_test[0]))"
   ]
  },
  {
   "cell_type": "code",
   "execution_count": null,
   "metadata": {
    "ExecuteTime": {
     "start_time": "2020-01-28T07:06:58.016Z"
    },
    "scrolled": false
   },
   "outputs": [],
   "source": [
    "tn, fp, fn, tp = confusion_matrix(y_test[0], pred_test[0]).ravel()\n",
    "pd.DataFrame([[tn, fp], [fn, tp]], index = [\"label: 0\", \"label: 1\"], columns = [\"predicted: 0\", \"predicted: 1\"])"
   ]
  }
 ],
 "metadata": {
  "celltoolbar": "Raw Cell Format",
  "kernelspec": {
   "display_name": "Python [conda env:root] *",
   "language": "python",
   "name": "conda-root-py"
  },
  "language_info": {
   "codemirror_mode": {
    "name": "ipython",
    "version": 3
   },
   "file_extension": ".py",
   "mimetype": "text/x-python",
   "name": "python",
   "nbconvert_exporter": "python",
   "pygments_lexer": "ipython3",
   "version": "3.7.4"
  },
  "latex_envs": {
   "LaTeX_envs_menu_present": true,
   "autoclose": false,
   "autocomplete": true,
   "bibliofile": "biblio.bib",
   "cite_by": "apalike",
   "current_citInitial": 1,
   "eqLabelWithNumbers": true,
   "eqNumInitial": 1,
   "hotkeys": {
    "equation": "Ctrl-E",
    "itemize": "Ctrl-I"
   },
   "labels_anchors": false,
   "latex_user_defs": false,
   "report_style_numbering": false,
   "user_envs_cfg": false
  },
  "toc": {
   "base_numbering": 1,
   "nav_menu": {},
   "number_sections": true,
   "sideBar": true,
   "skip_h1_title": false,
   "title_cell": "Table of Contents",
   "title_sidebar": "Contents",
   "toc_cell": false,
   "toc_position": {},
   "toc_section_display": true,
   "toc_window_display": true
  },
  "varInspector": {
   "cols": {
    "lenName": 16,
    "lenType": 16,
    "lenVar": 40
   },
   "kernels_config": {
    "python": {
     "delete_cmd_postfix": "",
     "delete_cmd_prefix": "del ",
     "library": "var_list.py",
     "varRefreshCmd": "print(var_dic_list())"
    },
    "r": {
     "delete_cmd_postfix": ") ",
     "delete_cmd_prefix": "rm(",
     "library": "var_list.r",
     "varRefreshCmd": "cat(var_dic_list()) "
    }
   },
   "types_to_exclude": [
    "module",
    "function",
    "builtin_function_or_method",
    "instance",
    "_Feature"
   ],
   "window_display": false
  }
 },
 "nbformat": 4,
 "nbformat_minor": 2
}
