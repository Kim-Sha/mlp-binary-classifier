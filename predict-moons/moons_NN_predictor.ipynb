{
 "cells": [
  {
   "cell_type": "markdown",
   "metadata": {},
   "source": [
    "# NN Moons Dataset Classification"
   ]
  },
  {
   "cell_type": "code",
   "execution_count": 1,
   "metadata": {
    "ExecuteTime": {
     "end_time": "2020-01-14T07:28:28.639804Z",
     "start_time": "2020-01-14T07:28:27.546004Z"
    }
   },
   "outputs": [],
   "source": [
    "import sys\n",
    "sys.path.append(\"..\")\n",
    "import numpy as np\n",
    "import pandas as pd\n",
    "from multilayer_perceptron import MultiLayerNN\n",
    "from sklearn import preprocessing\n",
    "from sklearn.metrics import accuracy_score, confusion_matrix, precision_score, recall_score"
   ]
  },
  {
   "cell_type": "code",
   "execution_count": 2,
   "metadata": {
    "ExecuteTime": {
     "end_time": "2020-01-14T07:28:28.659416Z",
     "start_time": "2020-01-14T07:28:28.642688Z"
    }
   },
   "outputs": [],
   "source": [
    "X_train = np.loadtxt(\"data-moons/x_train.csv\")\n",
    "y_train = np.loadtxt(\"data-moons/y_train.csv\")"
   ]
  },
  {
   "cell_type": "code",
   "execution_count": 3,
   "metadata": {
    "ExecuteTime": {
     "end_time": "2020-01-14T07:28:28.674208Z",
     "start_time": "2020-01-14T07:28:28.665306Z"
    }
   },
   "outputs": [],
   "source": [
    "y_train = y_train.reshape(1, y_train.shape[0])"
   ]
  },
  {
   "cell_type": "code",
   "execution_count": 4,
   "metadata": {
    "ExecuteTime": {
     "end_time": "2020-01-14T07:28:28.691428Z",
     "start_time": "2020-01-14T07:28:28.679692Z"
    }
   },
   "outputs": [
    {
     "name": "stdout",
     "output_type": "stream",
     "text": [
      "(2, 300)\n",
      "(1, 300)\n"
     ]
    }
   ],
   "source": [
    "print(X_train.shape)\n",
    "print(y_train.shape)"
   ]
  },
  {
   "cell_type": "markdown",
   "metadata": {},
   "source": [
    "# Binary Neural Net"
   ]
  },
  {
   "cell_type": "code",
   "execution_count": 5,
   "metadata": {
    "ExecuteTime": {
     "end_time": "2020-01-14T07:28:28.718115Z",
     "start_time": "2020-01-14T07:28:28.699467Z"
    }
   },
   "outputs": [],
   "source": [
    "moons_nn = MultiLayerNN(X = X_train, Y = y_train)"
   ]
  },
  {
   "cell_type": "code",
   "execution_count": 6,
   "metadata": {
    "ExecuteTime": {
     "end_time": "2020-01-14T07:29:08.550324Z",
     "start_time": "2020-01-14T07:28:28.730125Z"
    }
   },
   "outputs": [
    {
     "name": "stdout",
     "output_type": "stream",
     "text": [
      "Cost after epoch 0: 0.541432\n",
      "Learning rate after epoch 0: 0.010000\n",
      "Cost after epoch 1000: 0.117905\n",
      "Learning rate after epoch 1000: 0.009950\n",
      "Cost after epoch 2000: 0.121307\n",
      "Learning rate after epoch 2000: 0.009802\n",
      "Cost after epoch 3000: 0.122713\n",
      "Learning rate after epoch 3000: 0.009560\n",
      "Cost after epoch 4000: 0.116761\n",
      "Learning rate after epoch 4000: 0.009231\n",
      "Cost after epoch 5000: 0.116334\n",
      "Learning rate after epoch 5000: 0.008825\n",
      "Cost after epoch 6000: 0.119810\n",
      "Learning rate after epoch 6000: 0.008353\n",
      "Cost after epoch 7000: 0.115992\n",
      "Learning rate after epoch 7000: 0.007827\n",
      "Cost after epoch 8000: 0.115935\n",
      "Learning rate after epoch 8000: 0.007262\n",
      "Cost after epoch 9000: 0.116100\n",
      "Learning rate after epoch 9000: 0.006670\n",
      "Cost after epoch 10000: 0.117015\n",
      "Learning rate after epoch 10000: 0.006066\n",
      "Cost after epoch 11000: 0.116505\n",
      "Learning rate after epoch 11000: 0.005461\n",
      "Cost after epoch 12000: 0.115353\n",
      "Learning rate after epoch 12000: 0.004868\n",
      "Cost after epoch 13000: 0.115610\n",
      "Learning rate after epoch 13000: 0.004296\n",
      "Cost after epoch 14000: 0.115682\n",
      "Learning rate after epoch 14000: 0.003754\n",
      "Cost after epoch 15000: 0.115331\n",
      "Learning rate after epoch 15000: 0.003247\n",
      "Cost after epoch 16000: 0.115636\n",
      "Learning rate after epoch 16000: 0.002781\n",
      "Cost after epoch 17000: 0.114847\n",
      "Learning rate after epoch 17000: 0.002358\n",
      "Cost after epoch 18000: 0.114875\n",
      "Learning rate after epoch 18000: 0.001979\n",
      "Cost after epoch 19000: 0.114784\n",
      "Learning rate after epoch 19000: 0.001645\n"
     ]
    },
    {
     "data": {
      "image/png": "[encoded data removed]",
      "text/plain": [
       "<Figure size 432x288 with 1 Axes>"
      ]
     },
     "metadata": {
      "needs_background": "light"
     },
     "output_type": "display_data"
    }
   ],
   "source": [
    "moons_nn.fit_binary(layer_dimensions = [2, 5, 2, 1],\n",
    "                    optimizer = \"adam\",\n",
    "                    learning_rate = 0.01,\n",
    "                    learning_decay_rate = 1e-8,\n",
    "                    num_epochs = 20000)"
   ]
  },
  {
   "cell_type": "markdown",
   "metadata": {},
   "source": [
    "## Training Set Performance"
   ]
  },
  {
   "cell_type": "code",
   "execution_count": 7,
   "metadata": {
    "ExecuteTime": {
     "end_time": "2020-01-14T07:29:08.584328Z",
     "start_time": "2020-01-14T07:29:08.556190Z"
    }
   },
   "outputs": [
    {
     "name": "stdout",
     "output_type": "stream",
     "text": [
      "Accuracy: 0.9500000000000002\n"
     ]
    }
   ],
   "source": [
    "pred_train = moons_nn.predict_binary(X = X_train, y = y_train)"
   ]
  },
  {
   "cell_type": "code",
   "execution_count": 8,
   "metadata": {
    "ExecuteTime": {
     "end_time": "2020-01-14T07:29:08.611895Z",
     "start_time": "2020-01-14T07:29:08.594163Z"
    },
    "scrolled": true
   },
   "outputs": [
    {
     "name": "stdout",
     "output_type": "stream",
     "text": [
      "Precision: 0.9470198675496688\n",
      "Recall: 0.9533333333333334\n"
     ]
    }
   ],
   "source": [
    "print(\"Precision:\", precision_score(y_train[0], pred_train[0]))\n",
    "print(\"Recall:\", recall_score(y_train[0], pred_train[0]))"
   ]
  },
  {
   "cell_type": "code",
   "execution_count": 9,
   "metadata": {
    "ExecuteTime": {
     "end_time": "2020-01-14T07:29:08.640328Z",
     "start_time": "2020-01-14T07:29:08.616676Z"
    }
   },
   "outputs": [
    {
     "data": {
      "text/html": [
       "<div>\n",
       "<style scoped>\n",
       "    .dataframe tbody tr th:only-of-type {\n",
       "        vertical-align: middle;\n",
       "    }\n",
       "\n",
       "    .dataframe tbody tr th {\n",
       "        vertical-align: top;\n",
       "    }\n",
       "\n",
       "    .dataframe thead th {\n",
       "        text-align: right;\n",
       "    }\n",
       "</style>\n",
       "<table border=\"1\" class=\"dataframe\">\n",
       "  <thead>\n",
       "    <tr style=\"text-align: right;\">\n",
       "      <th></th>\n",
       "      <th>predicted: 0</th>\n",
       "      <th>predicted: 1</th>\n",
       "    </tr>\n",
       "  </thead>\n",
       "  <tbody>\n",
       "    <tr>\n",
       "      <th>label: 0</th>\n",
       "      <td>0.473333</td>\n",
       "      <td>0.026667</td>\n",
       "    </tr>\n",
       "    <tr>\n",
       "      <th>label: 1</th>\n",
       "      <td>0.023333</td>\n",
       "      <td>0.476667</td>\n",
       "    </tr>\n",
       "  </tbody>\n",
       "</table>\n",
       "</div>"
      ],
      "text/plain": [
       "          predicted: 0  predicted: 1\n",
       "label: 0      0.473333      0.026667\n",
       "label: 1      0.023333      0.476667"
      ]
     },
     "execution_count": 9,
     "metadata": {},
     "output_type": "execute_result"
    }
   ],
   "source": [
    "tn, fp, fn, tp = confusion_matrix(y_train[0], pred_train[0], normalize = \"all\").ravel()\n",
    "pd.DataFrame([[tn, fp], [fn, tp]], index = [\"label: 0\", \"label: 1\"], columns = [\"predicted: 0\", \"predicted: 1\"])"
   ]
  },
  {
   "cell_type": "code",
   "execution_count": null,
   "metadata": {},
   "outputs": [],
   "source": []
  }
 ],
 "metadata": {
  "kernelspec": {
   "display_name": "Python [conda env:root] *",
   "language": "python",
   "name": "conda-root-py"
  },
  "language_info": {
   "codemirror_mode": {
    "name": "ipython",
    "version": 3
   },
   "file_extension": ".py",
   "mimetype": "text/x-python",
   "name": "python",
   "nbconvert_exporter": "python",
   "pygments_lexer": "ipython3",
   "version": "3.7.4"
  },
  "latex_envs": {
   "LaTeX_envs_menu_present": true,
   "autoclose": false,
   "autocomplete": true,
   "bibliofile": "biblio.bib",
   "cite_by": "apalike",
   "current_citInitial": 1,
   "eqLabelWithNumbers": true,
   "eqNumInitial": 1,
   "hotkeys": {
    "equation": "Ctrl-E",
    "itemize": "Ctrl-I"
   },
   "labels_anchors": false,
   "latex_user_defs": false,
   "report_style_numbering": false,
   "user_envs_cfg": false
  },
  "toc": {
   "base_numbering": 1,
   "nav_menu": {},
   "number_sections": true,
   "sideBar": true,
   "skip_h1_title": false,
   "title_cell": "Table of Contents",
   "title_sidebar": "Contents",
   "toc_cell": false,
   "toc_position": {},
   "toc_section_display": true,
   "toc_window_display": false
  },
  "varInspector": {
   "cols": {
    "lenName": 16,
    "lenType": 16,
    "lenVar": 40
   },
   "kernels_config": {
    "python": {
     "delete_cmd_postfix": "",
     "delete_cmd_prefix": "del ",
     "library": "var_list.py",
     "varRefreshCmd": "print(var_dic_list())"
    },
    "r": {
     "delete_cmd_postfix": ") ",
     "delete_cmd_prefix": "rm(",
     "library": "var_list.r",
     "varRefreshCmd": "cat(var_dic_list()) "
    }
   },
   "types_to_exclude": [
    "module",
    "function",
    "builtin_function_or_method",
    "instance",
    "_Feature"
   ],
   "window_display": false
  }
 },
 "nbformat": 4,
 "nbformat_minor": 2
}
